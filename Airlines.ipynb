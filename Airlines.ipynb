{
 "cells": [
  {
   "cell_type": "code",
   "execution_count": 1,
   "metadata": {
    "cell_id": "b44f3317125f415a99fa6b23f540514a",
    "deepnote_cell_type": "code",
    "deepnote_to_be_reexecuted": false,
    "execution_millis": 7564,
    "execution_start": 1671182937851,
    "source_hash": "e0b351d3",
    "tags": []
   },
   "outputs": [
    {
     "name": "stdout",
     "output_type": "stream",
     "text": [
      "Hit:1 http://deb.debian.org/debian buster InRelease\n",
      "Hit:2 http://deb.debian.org/debian-security buster/updates InRelease\n",
      "Get:3 http://deb.debian.org/debian buster-updates InRelease [56.6 kB]\n",
      "Fetched 56.6 kB in 0s (280 kB/s)\n",
      "\n",
      "\n",
      "\n",
      "\n",
      "openjdk-11-jdk is already the newest version (11.0.16+8-1~deb10u1).\n",
      "0 upgraded, 0 newly installed, 0 to remove and 54 not upgraded.\n",
      "Requirement already satisfied: pyspark in /root/venv/lib/python3.9/site-packages (3.3.1)\n",
      "Requirement already satisfied: py4j==0.10.9.5 in /root/venv/lib/python3.9/site-packages (from pyspark) (0.10.9.5)\n",
      "\u001b[33mWARNING: You are using pip version 22.0.4; however, version 22.3.1 is available.\n",
      "You should consider upgrading via the '/root/venv/bin/python -m pip install --upgrade pip' command.\u001b[0m\u001b[33m\n",
      "\u001b[0mRequirement already satisfied: openpyxl in /root/venv/lib/python3.9/site-packages (3.0.10)\n",
      "Requirement already satisfied: et-xmlfile in /root/venv/lib/python3.9/site-packages (from openpyxl) (1.1.0)\n",
      "\u001b[33mWARNING: You are using pip version 22.0.4; however, version 22.3.1 is available.\n",
      "You should consider upgrading via the '/root/venv/bin/python -m pip install --upgrade pip' command.\u001b[0m\u001b[33m\n",
      "\u001b[0mRequirement already satisfied: mysql-connector-python in /root/venv/lib/python3.9/site-packages (8.0.31)\n",
      "Requirement already satisfied: protobuf<=3.20.1,>=3.11.0 in /shared-libs/python3.9/py/lib/python3.9/site-packages (from mysql-connector-python) (3.19.6)\n",
      "\u001b[33mWARNING: You are using pip version 22.0.4; however, version 22.3.1 is available.\n",
      "You should consider upgrading via the '/root/venv/bin/python -m pip install --upgrade pip' command.\u001b[0m\u001b[33m\n",
      "\u001b[0m"
     ]
    }
   ],
   "source": [
    "# Installation des dépendances\n",
    "# -----------------------------\n",
    "! sudo apt-get update\n",
    "! sudo mkdir -p /usr/share/man/man1\n",
    "! sudo apt-get install -y openjdk-11-jdk\n",
    "! pip install pyspark\n",
    "! pip install openpyxl\n",
    "! pip install mysql-connector-python"
   ]
  },
  {
   "cell_type": "code",
   "execution_count": 27,
   "metadata": {
    "cell_id": "bcde9dff260a44dfbd79bfa0b40a27a2",
    "deepnote_cell_type": "code",
    "deepnote_to_be_reexecuted": false,
    "execution_millis": 132,
    "execution_start": 1671183321294,
    "source_hash": "f00cd617",
    "tags": []
   },
   "outputs": [],
   "source": [
    "# Imports\n",
    "# ---------------------------\n",
    "from pyspark.sql import SparkSession\n",
    "spark = SparkSession.builder.getOrCreate()\n",
    "import pandas as pd\n",
    "import pyspark.sql.functions as F \n",
    "import mysql.connector\n",
    "from pyspark.sql.types import *\n",
    "import plotly.express as px\n",
    "\n",
    "\n",
    "# Localisation des fichiers\n",
    "#------------------------------------\n",
    "file_location = \"/work/data-csv/\""
   ]
  },
  {
   "cell_type": "markdown",
   "metadata": {
    "cell_id": "d7e61b7416a14d9fb7820ec6b7a1e39e",
    "deepnote_cell_type": "text-cell-h1",
    "formattedRanges": [],
    "is_collapsed": false,
    "tags": []
   },
   "source": [
    "# Initialisation de la base de données MySQL"
   ]
  },
  {
   "cell_type": "code",
   "execution_count": 4,
   "metadata": {
    "cell_id": "40bbf0ebca2c4d83b88fd1bc20eb3ef3",
    "deepnote_cell_type": "sql",
    "deepnote_sql_source": "-- Création table airlines\nCREATE TABLE IF NOT EXISTS airlines (\nid INT PRIMARY KEY AUTO_INCREMENT,\ncarrier VARCHAR(3) NOT NULL,\nname VARCHAR(255) NOT NULL,\nUNIQUE (carrier)\n);",
    "deepnote_to_be_reexecuted": false,
    "deepnote_variable_name": "df_1",
    "execution_millis": 1764,
    "execution_start": 1671182948786,
    "source_hash": "c030d6cc",
    "sql_integration_id": "662ef500-be86-46b9-aaf1-a5c4035d5ef7",
    "tags": []
   },
   "outputs": [],
   "source": [
    "\n",
    "\n",
    "df_1 = _deepnote_execute_sql(\"\"\"-- Création table airlines\n",
    "CREATE TABLE IF NOT EXISTS airlines (\n",
    "id INT PRIMARY KEY AUTO_INCREMENT,\n",
    "carrier VARCHAR(3) NOT NULL,\n",
    "name VARCHAR(255) NOT NULL,\n",
    "UNIQUE (carrier)\n",
    ");\n",
    "\"\"\", 'SQL_662EF500_BE86_46B9_AAF1_A5C4035D5EF7')\n",
    "df_1"
   ]
  },
  {
   "cell_type": "code",
   "execution_count": 5,
   "metadata": {
    "cell_id": "f03acc84c92b4fc09e33164be4c9a32b",
    "deepnote_cell_type": "sql",
    "deepnote_sql_source": "-- Création table planes\nCREATE TABLE IF NOT EXISTS planes (\nid INT PRIMARY KEY AUTO_INCREMENT,\ntailnum VARCHAR(10),\nyear INT,\ntype_plane VARCHAR(255) NOT NULL,\nmanufacturer VARCHAR(255) NOT NULL,\nmodel VARCHAR(255) NOT NULL,\nengine_name VARCHAR(255) NOT NULL,\nengine_nb INT NOT NULL,\nseats INT NOT NULL,\nspeed VARCHAR(255),\nUNIQUE (tailnum)\n);",
    "deepnote_to_be_reexecuted": false,
    "deepnote_variable_name": "df_3",
    "execution_millis": 1279,
    "execution_start": 1671182950555,
    "source_hash": "c8ec2bdb",
    "sql_integration_id": "662ef500-be86-46b9-aaf1-a5c4035d5ef7",
    "tags": []
   },
   "outputs": [],
   "source": [
    "\n",
    "\n",
    "df_3 = _deepnote_execute_sql(\"\"\"-- Création table planes\n",
    "CREATE TABLE IF NOT EXISTS planes (\n",
    "id INT PRIMARY KEY AUTO_INCREMENT,\n",
    "tailnum VARCHAR(10),\n",
    "year INT,\n",
    "type_plane VARCHAR(255) NOT NULL,\n",
    "manufacturer VARCHAR(255) NOT NULL,\n",
    "model VARCHAR(255) NOT NULL,\n",
    "engine_name VARCHAR(255) NOT NULL,\n",
    "engine_nb INT NOT NULL,\n",
    "seats INT NOT NULL,\n",
    "speed VARCHAR(255),\n",
    "UNIQUE (tailnum)\n",
    ");\n",
    "\"\"\", 'SQL_662EF500_BE86_46B9_AAF1_A5C4035D5EF7')\n",
    "df_3"
   ]
  },
  {
   "cell_type": "code",
   "execution_count": 6,
   "metadata": {
    "cell_id": "aac1a6e324c74f9e8053bea3d983c174",
    "deepnote_cell_type": "sql",
    "deepnote_sql_source": "-- Création table airports\nCREATE TABLE IF NOT EXISTS airports (\nid INT PRIMARY KEY AUTO_INCREMENT,\nfaa VARCHAR(10),\nname VARCHAR(255) NOT NULL,\nlat FLOAT NOT NULL,\nlon FLOAT NOT NULL,\nalt INT NOT NULL,\ntz INT NOT NULL,\ndst VARCHAR(10),\ntzone VARCHAR(100),\nUNIQUE (faa)\n);",
    "deepnote_to_be_reexecuted": false,
    "deepnote_variable_name": "df_4",
    "execution_millis": 1240,
    "execution_start": 1671182951836,
    "source_hash": "8c4b517d",
    "sql_integration_id": "662ef500-be86-46b9-aaf1-a5c4035d5ef7",
    "tags": []
   },
   "outputs": [],
   "source": [
    "\n",
    "\n",
    "df_4 = _deepnote_execute_sql(\"\"\"-- Création table airports\n",
    "CREATE TABLE IF NOT EXISTS airports (\n",
    "id INT PRIMARY KEY AUTO_INCREMENT,\n",
    "faa VARCHAR(10),\n",
    "name VARCHAR(255) NOT NULL,\n",
    "lat FLOAT NOT NULL,\n",
    "lon FLOAT NOT NULL,\n",
    "alt INT NOT NULL,\n",
    "tz INT NOT NULL,\n",
    "dst VARCHAR(10),\n",
    "tzone VARCHAR(100),\n",
    "UNIQUE (faa)\n",
    ");\n",
    "\"\"\", 'SQL_662EF500_BE86_46B9_AAF1_A5C4035D5EF7')\n",
    "df_4"
   ]
  },
  {
   "cell_type": "code",
   "execution_count": 7,
   "metadata": {
    "cell_id": "d50ab090bf2040f780f7540834d4ecd0",
    "deepnote_cell_type": "sql",
    "deepnote_sql_source": "-- Création table weather\nCREATE TABLE IF NOT EXISTS weather (\nid INT PRIMARY KEY AUTO_INCREMENT,\norigin VARCHAR(10) NOT NULL,\nyear INT,\nmonth INT,\nday INT,\nhour INT,\ntemp FLOAT,\ndewp FLOAT,\nhumid FLOAT,\nwind_dir INT,\nwind_speed FLOAT,\nwind_gust FLOAT,\nprecip FLOAT,\npressure FLOAT,\nvisib FLOAT,\ntime_hour VARCHAR(255)\n);",
    "deepnote_to_be_reexecuted": false,
    "deepnote_variable_name": "df_6",
    "execution_millis": 1352,
    "execution_start": 1671182953080,
    "source_hash": "ace9a426",
    "sql_integration_id": "662ef500-be86-46b9-aaf1-a5c4035d5ef7",
    "tags": []
   },
   "outputs": [],
   "source": [
    "\n",
    "\n",
    "df_6 = _deepnote_execute_sql(\"\"\"-- Création table weather\n",
    "CREATE TABLE IF NOT EXISTS weather (\n",
    "id INT PRIMARY KEY AUTO_INCREMENT,\n",
    "origin VARCHAR(10) NOT NULL,\n",
    "year INT,\n",
    "month INT,\n",
    "day INT,\n",
    "hour INT,\n",
    "temp FLOAT,\n",
    "dewp FLOAT,\n",
    "humid FLOAT,\n",
    "wind_dir INT,\n",
    "wind_speed FLOAT,\n",
    "wind_gust FLOAT,\n",
    "precip FLOAT,\n",
    "pressure FLOAT,\n",
    "visib FLOAT,\n",
    "time_hour VARCHAR(255)\n",
    ");\n",
    "\"\"\", 'SQL_662EF500_BE86_46B9_AAF1_A5C4035D5EF7')\n",
    "df_6"
   ]
  },
  {
   "cell_type": "code",
   "execution_count": 8,
   "metadata": {
    "cell_id": "57e404871efb45f2819bcbd6c52b5608",
    "deepnote_cell_type": "sql",
    "deepnote_sql_source": "-- Création table flights\n-- carrier = airlines.carrier => airline_id\n-- flight = planes.tailnum => plane_id\n-- origin = airports.faa => origin_id\n-- dest = airports.faa => dest_id\nCREATE TABLE IF NOT EXISTS flights (\nid INT PRIMARY KEY AUTO_INCREMENT,\nyear INT NOT NULL,\nmonth INT NOT NULL,\nday INT NOT NULL,\ndep_time INT,\nsched_dep_time INT,\ndep_delay INT,\narr_time INT,\nsched_arr_time INT,\narr_delay INT,\ncarrier VARCHAR(10) NOT NULL,\nflight INT,\ntailnum VARCHAR(10) NOT NULL,\norigin VARCHAR(10) NOT NULL, \ndest VARCHAR(10) NOT NULL,\nair_time INT,\ndistance INT,\nhour INT NOT NULL,\nminute INT NOT NULL,\ntime_hour VARCHAR(255) NOT NULL\n);",
    "deepnote_to_be_reexecuted": false,
    "deepnote_variable_name": "df_5",
    "execution_millis": 1360,
    "execution_start": 1671182954438,
    "source_hash": "a23a94ad",
    "sql_integration_id": "662ef500-be86-46b9-aaf1-a5c4035d5ef7",
    "tags": []
   },
   "outputs": [],
   "source": [
    "\n",
    "\n",
    "df_5 = _deepnote_execute_sql(\"\"\"-- Création table flights\n",
    "-- carrier = airlines.carrier => airline_id\n",
    "-- flight = planes.tailnum => plane_id\n",
    "-- origin = airports.faa => origin_id\n",
    "-- dest = airports.faa => dest_id\n",
    "CREATE TABLE IF NOT EXISTS flights (\n",
    "id INT PRIMARY KEY AUTO_INCREMENT,\n",
    "year INT NOT NULL,\n",
    "month INT NOT NULL,\n",
    "day INT NOT NULL,\n",
    "dep_time INT,\n",
    "sched_dep_time INT,\n",
    "dep_delay INT,\n",
    "arr_time INT,\n",
    "sched_arr_time INT,\n",
    "arr_delay INT,\n",
    "carrier VARCHAR(10) NOT NULL,\n",
    "flight INT,\n",
    "tailnum VARCHAR(10) NOT NULL,\n",
    "origin VARCHAR(10) NOT NULL, \n",
    "dest VARCHAR(10) NOT NULL,\n",
    "air_time INT,\n",
    "distance INT,\n",
    "hour INT NOT NULL,\n",
    "minute INT NOT NULL,\n",
    "time_hour VARCHAR(255) NOT NULL\n",
    ");\n",
    "\"\"\", 'SQL_662EF500_BE86_46B9_AAF1_A5C4035D5EF7')\n",
    "df_5"
   ]
  },
  {
   "cell_type": "code",
   "execution_count": 9,
   "metadata": {
    "cell_id": "3ed0bec6726e4c59a265e6560eb42cff",
    "deepnote_cell_type": "code",
    "deepnote_to_be_reexecuted": false,
    "execution_millis": 82,
    "execution_start": 1671182955893,
    "source_hash": "1163e147",
    "tags": []
   },
   "outputs": [
    {
     "name": "stdout",
     "output_type": "stream",
     "text": [
      "('airlines',)\n",
      "('airports',)\n",
      "('auth_group',)\n",
      "('auth_group_permissions',)\n",
      "('auth_permission',)\n",
      "('auth_user',)\n",
      "('auth_user_groups',)\n",
      "('auth_user_user_permissions',)\n",
      "('django_admin_log',)\n",
      "('django_content_type',)\n",
      "('django_migrations',)\n",
      "('django_session',)\n",
      "('flights',)\n",
      "('planes',)\n",
      "('weather',)\n"
     ]
    }
   ],
   "source": [
    "# Vérification des tables\n",
    "mycursor = db_airlines.cursor()\n",
    "mycursor.execute(\"SHOW TABLES\")\n",
    "\n",
    "# Lister des tables existant dans la base de donnee\n",
    "for x in mycursor:\n",
    "  print(x)"
   ]
  },
  {
   "cell_type": "code",
   "execution_count": 10,
   "metadata": {
    "cell_id": "01f5106c8a4a4f18bd50c822135bbf0c",
    "deepnote_cell_type": "code",
    "deepnote_to_be_reexecuted": false,
    "execution_millis": 4565,
    "execution_start": 1671182955974,
    "source_hash": "31cd2f73",
    "tags": []
   },
   "outputs": [],
   "source": [
    "# Création des dataframes des fichiers excel\n",
    "# airlines = pd.read_excel(file_location + \"airlines.xlsx\")\n",
    "# airports = pd.read_excel(file_location + \"airports.xlsx\")\n",
    "# flights = pd.read_excel(file_location + \"flights.xlsx\")\n",
    "\n",
    "# Création des dataframes à partir des fichiers csv\n",
    "airlines = spark.read.csv(file_location + \"airlines.csv\" , header=True, inferSchema=True)\n",
    "planes = spark.read.csv(file_location + \"planes.csv\", header=True, inferSchema=True)\n",
    "weather = spark.read.csv(file_location + \"weather.csv\", header=True, inferSchema=True)\n",
    "airports = spark.read.csv(file_location + \"airports.csv\" , header=True, inferSchema=True)\n",
    "flights = spark.read.csv(file_location + \"flights.csv\" , header=True, inferSchema=True)\n"
   ]
  },
  {
   "cell_type": "markdown",
   "metadata": {
    "cell_id": "540cb1b7018e4431b7f4ed1555ff60ca",
    "deepnote_cell_type": "text-cell-p",
    "formattedRanges": [],
    "is_collapsed": false,
    "tags": []
   },
   "source": [
    "Problème rencontré ici pour la sauvegarde des données dans la base de données MySQL depuis DeepNote. "
   ]
  },
  {
   "cell_type": "markdown",
   "metadata": {
    "cell_id": "7d820cd4-73a5-4f6b-84c8-2a4877fa2667",
    "deepnote_cell_type": "text-cell-p",
    "formattedRanges": [],
    "is_collapsed": false,
    "tags": []
   },
   "source": [
    "Nous avons donc utilisés Databricks pour faire le traitement et l'enregistrement des données."
   ]
  },
  {
   "cell_type": "code",
   "execution_count": 3,
   "metadata": {
    "cell_id": "7047672fab20490fae97641421e192b4",
    "deepnote_cell_type": "code",
    "deepnote_to_be_reexecuted": false,
    "execution_millis": 870,
    "execution_start": 1671182947914,
    "source_hash": "ce6e8508",
    "tags": []
   },
   "outputs": [
    {
     "name": "stdout",
     "output_type": "stream",
     "text": [
      "<mysql.connector.connection_cext.CMySQLConnection object at 0x7f804554c520>\n"
     ]
    }
   ],
   "source": [
    "# Essai d'utiliser mysql.connector.python pour palier au problème d'envoi depuis DeepNote. \n",
    "# Abordé suite à l'utilisation de Databricks\n",
    "\n",
    "# Connexion a alwaysdata\n",
    "db_airlines = mysql.connector.connect(\n",
    "    host=\"xxx.alwaysdata.net\",\n",
    "    user=\"xxx\",\n",
    "    password=\"xxx\",\n",
    "    database=\"db_airlines\"\n",
    ")\n",
    "# Vérifier la connexion \n",
    "print(db_airlines)"
   ]
  },
  {
   "cell_type": "markdown",
   "metadata": {
    "cell_id": "d18eca4c39e744b08f9a78bc99dce3ae",
    "deepnote_cell_type": "markdown",
    "tags": []
   },
   "source": [
    "# Mission 1 : Se familiariser avec les données\n"
   ]
  },
  {
   "cell_type": "markdown",
   "metadata": {
    "cell_id": "7b8efee602814028b8cc7ac2d0e41a23",
    "deepnote_cell_type": "text-cell-number",
    "formattedRanges": [],
    "is_collapsed": false,
    "tags": []
   },
   "source": [
    "undefined. Combien y-a-t-il :  \n",
    "      - d’aéroports en tout, de départ et de destination \n",
    "      - Combien y-a-t-il d’aéroports où on ne passe pas à l’heure d’été ? de fuseaux horaires \n",
    "      - de compagnies, d’avions, de vols annulés ?  "
   ]
  },
  {
   "cell_type": "code",
   "execution_count": 103,
   "metadata": {
    "cell_id": "492152c79a8b42179d0082b4dd9d901a",
    "deepnote_cell_type": "code",
    "deepnote_to_be_reexecuted": false,
    "execution_millis": 793,
    "execution_start": 1671185320740,
    "source_hash": "ca043dc1",
    "tags": []
   },
   "outputs": [
    {
     "name": "stdout",
     "output_type": "stream",
     "text": [
      "Il y a 1458 d'aéroports.\n",
      "\n",
      "Il y a 3 aéroports de départs : \n",
      "+--------+--------------+\n",
      "|Aeroport|Nombre de vols|\n",
      "+--------+--------------+\n",
      "|     LGA|         78344|\n",
      "|     EWR|         91241|\n",
      "|     JFK|         83119|\n",
      "+--------+--------------+\n",
      "\n",
      "Il y a 103 aéroports de destinations : \n",
      "+--------+--------------+\n",
      "|Aeroport|Nombre de vols|\n",
      "+--------+--------------+\n",
      "|     PSE|           275|\n",
      "|     MSY|          2831|\n",
      "|     SNA|           600|\n",
      "|     BUR|           281|\n",
      "|     GRR|           589|\n",
      "|     MYR|            58|\n",
      "|     GSO|          1199|\n",
      "|     PVD|           331|\n",
      "|     OAK|           222|\n",
      "|     MSN|           441|\n",
      "|     DCA|          7386|\n",
      "|     ORF|          1214|\n",
      "|     CRW|           138|\n",
      "|     SAV|           598|\n",
      "|     CMH|          2609|\n",
      "|     CAK|           622|\n",
      "|     IAH|          5438|\n",
      "|     HNL|           533|\n",
      "|     CVG|          2953|\n",
      "|     SJC|           239|\n",
      "+--------+--------------+\n",
      "only showing top 20 rows\n",
      "\n"
     ]
    }
   ],
   "source": [
    "# Nombre d'aéroports\n",
    "allAirports = airports.select('name').count()\n",
    "print(\"Il y a \" + str(allAirports) + \" d'aéroports.\\n\")\n",
    "\n",
    "# Nombre d'aéroports de depart\n",
    "allAirportDeparture = flights.groupBy('origin').agg({'origin': 'count'})\\\n",
    "                      .withColumnRenamed('origin', 'Aeroport')\\\n",
    "                      .withColumnRenamed('count(origin)', 'Nombre de vols')\n",
    "print(\"Il y a \" + str(allAirportDeparture.select('Aeroport').count()) + \" aéroports de départs : \")\n",
    "allAirportDeparture.show()\n",
    "\n",
    "# Nombre d'aéroports de destination\n",
    "allAirportArrival = flights.groupBy('dest').agg({'dest': 'count'})\\\n",
    "                    .withColumnRenamed('dest', 'Aeroport')\\\n",
    "                    .withColumnRenamed('count(dest)', 'Nombre de vols')\n",
    "print(\"Il y a \" + str(allAirportArrival.select('Aeroport').count()) + \" aéroports de destinations : \")\n",
    "allAirportArrival.show()"
   ]
  },
  {
   "cell_type": "code",
   "execution_count": 12,
   "metadata": {
    "cell_id": "912633c879244f65bbb20a63946fb3ce",
    "deepnote_cell_type": "code",
    "deepnote_to_be_reexecuted": false,
    "execution_millis": 275,
    "execution_start": 1671182962427,
    "source_hash": "fc1e5aa7",
    "tags": []
   },
   "outputs": [
    {
     "name": "stdout",
     "output_type": "stream",
     "text": [
      "Il y a 23 aéroports où il n'y a pas d'heures d'été ainsi que 47 aéroports qui ne possèdent pas de fuseaux horaires.\n",
      "+---+-----+\n",
      "|dst|count|\n",
      "+---+-----+\n",
      "|  U|   47|\n",
      "|  A| 1388|\n",
      "|  N|   23|\n",
      "+---+-----+\n",
      "\n"
     ]
    }
   ],
   "source": [
    "# Combien y-a-t-il d’aéroports où on ne passe pas à l’heure d’été ? de fuseaux horaires \n",
    "# la valeur A correspond à la zone d'heure d'été\n",
    "# la valeur N correspond à la zone où il n'y a pas d'heure d'été.\n",
    "# la valeur U correspond à une zone inconnue\n",
    "no_summer_time = airports.filter(airports.dst == \"N\").count()\n",
    "no_timezone = airports.filter(airports.dst == \"U\").count()\n",
    "print(\"Il y a \" + str(no_summer_time) + \" aéroports où il n'y a pas d'heures d'été ainsi que \" + str(no_timezone) + \" aéroports qui ne possèdent pas de fuseaux horaires.\")\n",
    "airports.groupBy('dst').count().show()"
   ]
  },
  {
   "cell_type": "code",
   "execution_count": 13,
   "metadata": {
    "cell_id": "094b2cfd296b421d9d9e4e3c6dc5fac0",
    "deepnote_cell_type": "code",
    "deepnote_to_be_reexecuted": false,
    "execution_millis": 428,
    "execution_start": 1671182962703,
    "source_hash": "7514c740",
    "tags": []
   },
   "outputs": [
    {
     "name": "stdout",
     "output_type": "stream",
     "text": [
      "Il y a 16 compagnies aériennes.\n",
      "\n",
      "Il y a 3322 avions.\n",
      "\n",
      "Il y a 7273 vols annulés sur les 252704 vols.\n"
     ]
    }
   ],
   "source": [
    "# Nombre de compagnies\n",
    "allAirlines = airlines.select(\"*\")\n",
    "# allAirlines.show()\n",
    "print(\"Il y a \" + str(allAirlines.count()) + \" compagnies aériennes.\\n\")\n",
    "\n",
    "# Nombre d’avions\n",
    "allPlanes = planes.select(\"*\")\n",
    "# allPlanes.show()\n",
    "# allPlanes.count()\n",
    "print(\"Il y a \" + str(allPlanes.count()) + \" avions.\\n\")\n",
    "\n",
    "# Nombre de vols annulés\n",
    "allFlights = flights.filter(flights.air_time == ' ')\n",
    "#allFlights.show()\n",
    "print(\"Il y a \" + str(allFlights.count()) + \" vols annulés sur les \" + str(flights.count()) + \" vols.\")"
   ]
  },
  {
   "cell_type": "markdown",
   "metadata": {
    "cell_id": "6e48394feb5c481387dc71ffe3357ada",
    "deepnote_cell_type": "text-cell-number",
    "formattedRanges": [],
    "is_collapsed": false,
    "number": 2,
    "style": "decimal",
    "tags": []
   },
   "source": [
    "2. Quel est l’aéroport de départ le plus emprunté ? Quelles sont les 10 destinations les plus (moins) prisées (en indiquant le nom complet des destinations et non juste le code correspondant et le % corresp pour chaque destination) ? Quelle sont les 10 avions qui ont le plus (moins) décollé ?"
   ]
  },
  {
   "cell_type": "code",
   "execution_count": 158,
   "metadata": {
    "cell_id": "55f1a26fe7fe4a6cbb393458de963562",
    "deepnote_cell_type": "code",
    "deepnote_to_be_reexecuted": false,
    "execution_millis": 1216,
    "execution_start": 1671188341121,
    "source_hash": "9baae52e",
    "tags": []
   },
   "outputs": [
    {
     "name": "stdout",
     "output_type": "stream",
     "text": [
      "L'aéroport le plus emprunté est Newark Liberty Intl avec 91241 départs.\n",
      "\n",
      "Les 10 destinations les plus prisées sont: \n"
     ]
    },
    {
     "data": {
      "text/plain": [
       "(('Hartsfield Jackson Atlanta Intl', 12946),\n",
       " ('General Edward Lawrence Logan Intl', 12654),\n",
       " ('Charlotte Douglas Intl', 11895),\n",
       " ('Ronald Reagan Washington Natl', 11560),\n",
       " ('Fort Lauderdale Hollywood Intl', 10637),\n",
       " ('Los Angeles Intl', 10448),\n",
       " ('Orlando Intl', 9729),\n",
       " ('Miami Intl', 9443),\n",
       " ('Chicago Ohare Intl', 8938),\n",
       " ('San Francisco Intl', 7386))"
      ]
     },
     "metadata": {},
     "output_type": "display_data"
    },
    {
     "name": "stdout",
     "output_type": "stream",
     "text": [
      "Les 10 avions qui ont le plus décollé sont: \n"
     ]
    },
    {
     "data": {
      "text/plain": [
       "[Row(tailnum=' ', count(tailnum)=1973),\n",
       " Row(tailnum='N725MQ', count(tailnum)=443),\n",
       " Row(tailnum='N723MQ', count(tailnum)=394),\n",
       " Row(tailnum='N713MQ', count(tailnum)=385),\n",
       " Row(tailnum='N722MQ', count(tailnum)=378),\n",
       " Row(tailnum='N711MQ', count(tailnum)=376),\n",
       " Row(tailnum='N258JB', count(tailnum)=332),\n",
       " Row(tailnum='N353JB', count(tailnum)=316),\n",
       " Row(tailnum='N542MQ', count(tailnum)=310),\n",
       " Row(tailnum='N351JB', count(tailnum)=310)]"
      ]
     },
     "metadata": {},
     "output_type": "display_data"
    },
    {
     "name": "stdout",
     "output_type": "stream",
     "text": [
      "Les 10 avions qui ont le moins décollé sont: \n"
     ]
    },
    {
     "data": {
      "text/plain": [
       "[Row(tailnum='N534AS', count(tailnum)=1),\n",
       " Row(tailnum='N608SW', count(tailnum)=1),\n",
       " Row(tailnum='N838MH', count(tailnum)=1),\n",
       " Row(tailnum='N921DN', count(tailnum)=1),\n",
       " Row(tailnum='N826MH', count(tailnum)=1),\n",
       " Row(tailnum='N595NW', count(tailnum)=1),\n",
       " Row(tailnum='N787UA', count(tailnum)=1),\n",
       " Row(tailnum='N837MH', count(tailnum)=1),\n",
       " Row(tailnum='N913EV', count(tailnum)=1),\n",
       " Row(tailnum='N587NW', count(tailnum)=1)]"
      ]
     },
     "metadata": {},
     "output_type": "display_data"
    }
   ],
   "source": [
    "# Aéroport de départ le plus emprunté\n",
    "flight_join_airport = flights.join(airports, airports.faa ==  flights.origin,\"inner\")\n",
    "flight_desc_departures = flight_join_airport.groupBy('origin').\\\n",
    "                         agg({'origin': 'count'}).\\\n",
    "                         orderBy(F.col('count(origin)').desc())\n",
    "airport_most_departure = airports.filter(airports.faa == flight_desc_departures.first()[0])\n",
    "print(\"L'aéroport le plus emprunté est \"+ airport_most_departure.select('name').collect()[0].name + \\\n",
    "    \" avec \"+ str(flight_desc_departures.first()[1]) + \" départs.\\n\")\n",
    "\n",
    "# Les 10 destinations les plus ou moins prisées\n",
    "flights_most10_departures = flight_join_airport.groupBy('dest').\\\n",
    "                        agg({'dest': 'count'}).\\\n",
    "                        orderBy(F.col('count(dest)').desc())\n",
    "list_10_code = []\n",
    "list_10_count = []\n",
    "for val in flights_most10_departures.take(10) :\n",
    "    list_10_code.append(val['dest'])\n",
    "    list_10_count.append(val['count(dest)'])\n",
    "\n",
    "airport_most10_dest = airports.filter((airports.faa).isin(list_10_code)).take(10)\n",
    "list_10_dest2 = [(val['name']) for val in airport_most10_dest]\n",
    "print('Les 10 destinations les plus prisées sont: ')\n",
    "test = tuple(zip(list_10_dest2, list_10_count))\n",
    "display(test)\n",
    "\n",
    "# Les 10 avions qui ont le plus ou moins décollés\n",
    "planes_most10_departures = flight_join_airport.groupBy('tailnum').\\\n",
    "                        agg({'tailnum': 'count'}).\\\n",
    "                        orderBy(F.col('count(tailnum)').desc())\n",
    "\n",
    "print('Les 10 avions qui ont le plus décollé sont: ')\n",
    "display(planes_most10_departures.take(10))\n",
    "print('Les 10 avions qui ont le moins décollé sont: ')\n",
    "display(planes_most10_departures.tail(10))"
   ]
  },
  {
   "cell_type": "markdown",
   "metadata": {
    "cell_id": "506be3ba13154824a0a1c46ff920ff45",
    "deepnote_cell_type": "text-cell-number",
    "formattedRanges": [],
    "is_collapsed": false,
    "number": 3,
    "style": "decimal",
    "tags": []
   },
   "source": [
    "3. Combien chaque compagnie a desservi de destination ; combien chaque compagnie a desservie de destination par aéroport d’origine. Réaliser les graphiques adéquats qui synthétisent ces informations ? "
   ]
  },
  {
   "cell_type": "code",
   "execution_count": 101,
   "metadata": {
    "cell_id": "e40d4ffb06ff4270a48399a75a1247c2",
    "deepnote_cell_type": "code",
    "deepnote_to_be_reexecuted": false,
    "execution_millis": 584,
    "execution_start": 1671185285244,
    "source_hash": "f1b59d96",
    "tags": []
   },
   "outputs": [],
   "source": [
    "#relecture avec pandas pour creation de plot\n",
    "flights2 = pd.read_csv(file_location + \"flights.csv\")\n",
    "planes2 = pd.read_csv(file_location + \"planes.csv\")\n",
    "airports2 = pd.read_csv(file_location + \"airports.csv\")\n",
    "weathers2 = pd.read_csv(file_location + \"weather.csv\")\n",
    "\n",
    "\n",
    "# On unifie les donnees pour avoir des donnees coherentes\n",
    "CompPerDest  = pd.merge(left = flights2, right = planes2, how = 'inner', on = 'tailnum' )\n",
    "GroupCompPerDest = CompPerDest.groupby(['manufacturer', 'dest']).size().reset_index(name='counts')\n",
    "GroupCompPerDest.loc[GroupCompPerDest['manufacturer'].str.contains('AIRBUS', case=False), 'manufacturer'] = 'AIRBUS'\n",
    "GroupCompPerDest.loc[GroupCompPerDest['manufacturer'].str.contains('MCDONNELL', case=False), 'manufacturer'] = 'MCDONNELL'\n",
    "GroupCompPerDest.loc[GroupCompPerDest['manufacturer'].str.contains('CANADAIR', case=False), 'manufacturer'] = 'CANADAIR'\n"
   ]
  },
  {
   "cell_type": "markdown",
   "metadata": {
    "cell_id": "eb2d7237342a4fdc8f527083856061da",
    "deepnote_cell_type": "text-cell-p",
    "formattedRanges": [],
    "is_collapsed": false,
    "tags": []
   },
   "source": [
    "Ci-dessous un graphique qui nous permet de voir quelle sont les destionations qui sont les plus prisées par les compagnies aérienne. On peut voir que notamment les grandes compagnie comme Boeing pratique de nombreux vols lorsqu'elle possede une destination, exemple LAX qui compte 7910 vols. Pour finir, on peut voir que la compagnie EMBREAER est sur toute les destination a l'exception de quelques unes."
   ]
  },
  {
   "cell_type": "code",
   "execution_count": 95,
   "metadata": {
    "cell_id": "717007b4498144748d13b9edc58273c1",
    "deepnote_cell_type": "code",
    "deepnote_to_be_reexecuted": false,
    "execution_millis": 11,
    "execution_start": 1671185103367,
    "source_hash": "671fd591",
    "tags": []
   },
   "outputs": [
    {
     "data": {
      "text/html": [
       "<html>\n",
       "<head><meta charset=\"utf-8\" /></head>\n",
       "<body>\n",
       "    <div>            <script src=\"https://cdnjs.cloudflare.com/ajax/libs/mathjax/2.7.5/MathJax.js?config=TeX-AMS-MML_SVG\"></script><script type=\"text/javascript\">if (window.MathJax && window.MathJax.Hub && window.MathJax.Hub.Config) {window.MathJax.Hub.Config({SVG: {font: \"STIX-Web\"}});}</script>                <script type=\"text/javascript\">window.PlotlyConfig = {MathJaxConfig: 'local'};</script>\n",
       "        <script src=\"https://cdn.plot.ly/plotly-2.14.0.min.js\"></script>                <div id=\"49760e81-d562-4057-9f5e-a24b814c88f5\" class=\"plotly-graph-div\" style=\"height:525px; width:100%;\"></div>            <script type=\"text/javascript\">                                    window.PLOTLYENV=window.PLOTLYENV || {};                                    if (document.getElementById(\"49760e81-d562-4057-9f5e-a24b814c88f5\")) {                    Plotly.newPlot(                        \"49760e81-d562-4057-9f5e-a24b814c88f5\",                        [{\"alignmentgroup\":\"True\",\"hovertemplate\":\"manufacturer=AGUSTA SPA<br>dest=%{x}<br>Nombre de transporteur=%{y}<extra></extra>\",\"legendgroup\":\"AGUSTA SPA\",\"marker\":{\"color\":\"#636efa\",\"pattern\":{\"shape\":\"\"}},\"name\":\"AGUSTA SPA\",\"offsetgroup\":\"AGUSTA SPA\",\"orientation\":\"v\",\"showlegend\":true,\"textposition\":\"auto\",\"x\":[\"MIA\",\"SFO\"],\"xaxis\":\"x\",\"y\":[17,11],\"yaxis\":\"y\",\"type\":\"bar\"},{\"alignmentgroup\":\"True\",\"hovertemplate\":\"manufacturer=AIRBUS<br>dest=%{x}<br>Nombre de transporteur=%{y}<extra></extra>\",\"legendgroup\":\"AIRBUS\",\"marker\":{\"color\":\"#EF553B\",\"pattern\":{\"shape\":\"\"}},\"name\":\"AIRBUS\",\"offsetgroup\":\"AIRBUS\",\"orientation\":\"v\",\"showlegend\":true,\"textposition\":\"auto\",\"x\":[\"ABQ\",\"ATL\",\"AUS\",\"BDL\",\"BNA\",\"BOS\",\"BQN\",\"BTV\",\"BUF\",\"BUR\",\"BZN\",\"CHS\",\"CLE\",\"CLT\",\"CVG\",\"DEN\",\"DFW\",\"DTW\",\"FLL\",\"HDN\",\"HNL\",\"HOU\",\"IAD\",\"IAH\",\"IND\",\"JAX\",\"LAS\",\"LAX\",\"LGB\",\"MCI\",\"MCO\",\"MEM\",\"MIA\",\"MSP\",\"MSY\",\"OAK\",\"ORD\",\"PBI\",\"PDX\",\"PHL\",\"PHX\",\"PIT\",\"PSE\",\"PSP\",\"PWM\",\"RDU\",\"ROC\",\"RSW\",\"SAN\",\"SAT\",\"SEA\",\"SFO\",\"SJC\",\"SJU\",\"SLC\",\"SMF\",\"SNA\",\"SRQ\",\"STL\",\"SYR\",\"TPA\",\"ABQ\",\"ATL\",\"AUS\",\"BDL\",\"BOS\",\"BQN\",\"BTV\",\"BUF\",\"BUR\",\"BZN\",\"CLE\",\"CLT\",\"CVG\",\"DCA\",\"DEN\",\"DFW\",\"DTW\",\"FLL\",\"HDN\",\"HOU\",\"IAD\",\"IAH\",\"IND\",\"JAX\",\"LAS\",\"LAX\",\"LGB\",\"MCI\",\"MCO\",\"MEM\",\"MIA\",\"MSP\",\"MSY\",\"MTJ\",\"OAK\",\"ORD\",\"PBI\",\"PDX\",\"PHL\",\"PHX\",\"PIT\",\"PSE\",\"PWM\",\"RDU\",\"ROC\",\"RSW\",\"SAN\",\"SAT\",\"SEA\",\"SFO\",\"SJC\",\"SJU\",\"SLC\",\"SMF\",\"SNA\",\"SRQ\",\"STL\",\"SYR\",\"TPA\"],\"xaxis\":\"x\",\"y\":[134,832,380,2,1,860,377,109,395,241,1,1,48,2622,1,767,46,687,4194,2,258,26,4,134,1,67,1060,3054,416,38,4041,132,260,274,501,183,361,2226,217,1,1195,59,231,19,31,3,142,1229,415,73,318,2346,200,1579,236,163,12,429,1,123,1720,20,936,295,5,1484,60,13,74,30,18,434,3653,3,2946,1156,451,1416,2174,12,5,3,1400,1,17,447,428,66,44,1651,172,1080,1083,676,9,25,2717,1200,192,80,1138,81,34,152,2,20,546,209,212,238,385,27,250,175,25,118,78,1,21,1215],\"yaxis\":\"y\",\"type\":\"bar\"},{\"alignmentgroup\":\"True\",\"hovertemplate\":\"manufacturer=AMERICAN AIRCRAFT INC<br>dest=%{x}<br>Nombre de transporteur=%{y}<extra></extra>\",\"legendgroup\":\"AMERICAN AIRCRAFT INC\",\"marker\":{\"color\":\"#00cc96\",\"pattern\":{\"shape\":\"\"}},\"name\":\"AMERICAN AIRCRAFT INC\",\"offsetgroup\":\"AMERICAN AIRCRAFT INC\",\"orientation\":\"v\",\"showlegend\":true,\"textposition\":\"auto\",\"x\":[\"DFW\",\"ORD\",\"STL\"],\"xaxis\":\"x\",\"y\":[14,18,2],\"yaxis\":\"y\",\"type\":\"bar\"},{\"alignmentgroup\":\"True\",\"hovertemplate\":\"manufacturer=AVIAT AIRCRAFT INC<br>dest=%{x}<br>Nombre de transporteur=%{y}<extra></extra>\",\"legendgroup\":\"AVIAT AIRCRAFT INC\",\"marker\":{\"color\":\"#ab63fa\",\"pattern\":{\"shape\":\"\"}},\"name\":\"AVIAT AIRCRAFT INC\",\"offsetgroup\":\"AVIAT AIRCRAFT INC\",\"orientation\":\"v\",\"showlegend\":true,\"textposition\":\"auto\",\"x\":[\"MIA\",\"SAN\",\"SFO\"],\"xaxis\":\"x\",\"y\":[6,1,10],\"yaxis\":\"y\",\"type\":\"bar\"},{\"alignmentgroup\":\"True\",\"hovertemplate\":\"manufacturer=AVIONS MARCEL DASSAULT<br>dest=%{x}<br>Nombre de transporteur=%{y}<extra></extra>\",\"legendgroup\":\"AVIONS MARCEL DASSAULT\",\"marker\":{\"color\":\"#FFA15A\",\"pattern\":{\"shape\":\"\"}},\"name\":\"AVIONS MARCEL DASSAULT\",\"offsetgroup\":\"AVIONS MARCEL DASSAULT\",\"orientation\":\"v\",\"showlegend\":true,\"textposition\":\"auto\",\"x\":[\"CLT\"],\"xaxis\":\"x\",\"y\":[2],\"yaxis\":\"y\",\"type\":\"bar\"},{\"alignmentgroup\":\"True\",\"hovertemplate\":\"manufacturer=BARKER JACK L<br>dest=%{x}<br>Nombre de transporteur=%{y}<extra></extra>\",\"legendgroup\":\"BARKER JACK L\",\"marker\":{\"color\":\"#19d3f3\",\"pattern\":{\"shape\":\"\"}},\"name\":\"BARKER JACK L\",\"offsetgroup\":\"BARKER JACK L\",\"orientation\":\"v\",\"showlegend\":true,\"textposition\":\"auto\",\"x\":[\"ABQ\",\"AUS\",\"BOS\",\"BQN\",\"BTV\",\"BUF\",\"BUR\",\"CLT\",\"DEN\",\"FLL\",\"JAX\",\"LAS\",\"LAX\",\"LGB\",\"MCO\",\"MSY\",\"OAK\",\"ORD\",\"PBI\",\"PDX\",\"PHX\",\"PSE\",\"RDU\",\"ROC\",\"RSW\",\"SAN\",\"SFO\",\"SJC\",\"SJU\",\"SLC\",\"SMF\",\"SRQ\",\"SYR\",\"TPA\"],\"xaxis\":\"x\",\"y\":[2,1,2,2,2,2,3,1,3,25,1,2,4,4,40,5,1,1,20,3,4,2,1,1,6,6,1,1,16,3,1,6,4,14],\"yaxis\":\"y\",\"type\":\"bar\"},{\"alignmentgroup\":\"True\",\"hovertemplate\":\"manufacturer=BEECH<br>dest=%{x}<br>Nombre de transporteur=%{y}<extra></extra>\",\"legendgroup\":\"BEECH\",\"marker\":{\"color\":\"#FF6692\",\"pattern\":{\"shape\":\"\"}},\"name\":\"BEECH\",\"offsetgroup\":\"BEECH\",\"orientation\":\"v\",\"showlegend\":true,\"textposition\":\"auto\",\"x\":[\"EGE\",\"MCO\",\"MIA\",\"SAN\",\"SFO\",\"SJU\"],\"xaxis\":\"x\",\"y\":[1,2,18,1,10,3],\"yaxis\":\"y\",\"type\":\"bar\"},{\"alignmentgroup\":\"True\",\"hovertemplate\":\"manufacturer=BELL<br>dest=%{x}<br>Nombre de transporteur=%{y}<extra></extra>\",\"legendgroup\":\"BELL\",\"marker\":{\"color\":\"#B6E880\",\"pattern\":{\"shape\":\"\"}},\"name\":\"BELL\",\"offsetgroup\":\"BELL\",\"orientation\":\"v\",\"showlegend\":true,\"textposition\":\"auto\",\"x\":[\"DFW\",\"MIA\",\"ORD\",\"SAN\",\"SFO\",\"STL\"],\"xaxis\":\"x\",\"y\":[12,5,12,1,14,3],\"yaxis\":\"y\",\"type\":\"bar\"},{\"alignmentgroup\":\"True\",\"hovertemplate\":\"manufacturer=BOEING<br>dest=%{x}<br>Nombre de transporteur=%{y}<extra></extra>\",\"legendgroup\":\"BOEING\",\"marker\":{\"color\":\"#FF97FF\",\"pattern\":{\"shape\":\"\"}},\"name\":\"BOEING\",\"offsetgroup\":\"BOEING\",\"orientation\":\"v\",\"showlegend\":true,\"textposition\":\"auto\",\"x\":[\"ATL\",\"AUS\",\"BNA\",\"BOS\",\"BQN\",\"BWI\",\"CAK\",\"CHS\",\"CLE\",\"CLT\",\"DEN\",\"DFW\",\"DTW\",\"EGE\",\"EYW\",\"FLL\",\"HNL\",\"HOU\",\"IAH\",\"IND\",\"JAC\",\"LAS\",\"LAX\",\"MCO\",\"MDW\",\"MIA\",\"MKE\",\"MSP\",\"MSY\",\"MTJ\",\"OMA\",\"ORD\",\"PBI\",\"PDX\",\"PHL\",\"PHX\",\"PIT\",\"RSW\",\"SAN\",\"SAT\",\"SDF\",\"SEA\",\"SFO\",\"SJU\",\"SLC\",\"SNA\",\"STL\",\"STT\",\"TPA\"],\"xaxis\":\"x\",\"y\":[6235,614,936,1446,228,207,622,1,957,121,3314,358,99,128,17,1614,274,980,3510,3,22,2368,7910,2711,3085,1459,1051,20,349,3,3,1987,1229,505,2,1171,18,691,1080,167,3,1880,6454,1496,1427,463,1120,204,1360],\"yaxis\":\"y\",\"type\":\"bar\"},{\"alignmentgroup\":\"True\",\"hovertemplate\":\"manufacturer=BOMBARDIER INC<br>dest=%{x}<br>Nombre de transporteur=%{y}<extra></extra>\",\"legendgroup\":\"BOMBARDIER INC\",\"marker\":{\"color\":\"#FECB52\",\"pattern\":{\"shape\":\"\"}},\"name\":\"BOMBARDIER INC\",\"offsetgroup\":\"BOMBARDIER INC\",\"orientation\":\"v\",\"showlegend\":true,\"textposition\":\"auto\",\"x\":[\"ATL\",\"AUS\",\"AVL\",\"BGR\",\"BHM\",\"BNA\",\"BOS\",\"BTV\",\"BUF\",\"BWI\",\"CAE\",\"CHO\",\"CHS\",\"CLE\",\"CLT\",\"CMH\",\"CVG\",\"DAY\",\"DCA\",\"DFW\",\"DSM\",\"DTW\",\"GRR\",\"GSO\",\"GSP\",\"IAD\",\"ILM\",\"IND\",\"JAX\",\"LEX\",\"MCI\",\"MEM\",\"MHT\",\"MKE\",\"MSN\",\"MSP\",\"MSY\",\"MVY\",\"MYR\",\"OMA\",\"ORD\",\"ORF\",\"PBI\",\"PHL\",\"PIT\",\"PWM\",\"RDU\",\"RIC\",\"ROC\",\"RSW\",\"SAT\",\"SAV\",\"SBN\",\"SDF\",\"SRQ\",\"STL\",\"SYR\",\"TPA\",\"TVC\",\"TYS\",\"XNA\"],\"xaxis\":\"x\",\"y\":[361,2,9,262,215,609,808,165,639,580,12,31,555,294,799,75,1245,242,764,276,80,1486,41,335,79,1534,89,324,309,1,394,330,57,226,175,1381,251,20,2,70,764,477,6,664,1184,43,767,563,424,53,51,38,3,162,78,3,216,3,7,205,1],\"yaxis\":\"y\",\"type\":\"bar\"},{\"alignmentgroup\":\"True\",\"hovertemplate\":\"manufacturer=CANADAIR<br>dest=%{x}<br>Nombre de transporteur=%{y}<extra></extra>\",\"legendgroup\":\"CANADAIR\",\"marker\":{\"color\":\"#636efa\",\"pattern\":{\"shape\":\"\"}},\"name\":\"CANADAIR\",\"offsetgroup\":\"CANADAIR\",\"orientation\":\"v\",\"showlegend\":true,\"textposition\":\"auto\",\"x\":[\"IAD\",\"BNA\",\"CLE\",\"CMH\",\"DCA\",\"DTW\",\"RDU\",\"TVC\",\"XNA\"],\"xaxis\":\"x\",\"y\":[1180,1,2,5,47,5,38,1,3],\"yaxis\":\"y\",\"type\":\"bar\"},{\"alignmentgroup\":\"True\",\"hovertemplate\":\"manufacturer=CESSNA<br>dest=%{x}<br>Nombre de transporteur=%{y}<extra></extra>\",\"legendgroup\":\"CESSNA\",\"marker\":{\"color\":\"#EF553B\",\"pattern\":{\"shape\":\"\"}},\"name\":\"CESSNA\",\"offsetgroup\":\"CESSNA\",\"orientation\":\"v\",\"showlegend\":true,\"textposition\":\"auto\",\"x\":[\"ATL\",\"BNA\",\"CLE\",\"CLT\",\"CMH\",\"CRW\",\"DCA\",\"DFW\",\"DTW\",\"EGE\",\"LAS\",\"MCO\",\"MIA\",\"MSP\",\"ORD\",\"RDU\",\"SAN\",\"SFO\",\"SJU\",\"STL\",\"XNA\"],\"xaxis\":\"x\",\"y\":[23,25,27,17,42,6,10,63,42,3,2,7,25,8,86,68,4,11,11,13,12],\"yaxis\":\"y\",\"type\":\"bar\"},{\"alignmentgroup\":\"True\",\"hovertemplate\":\"manufacturer=CIRRUS DESIGN CORP<br>dest=%{x}<br>Nombre de transporteur=%{y}<extra></extra>\",\"legendgroup\":\"CIRRUS DESIGN CORP\",\"marker\":{\"color\":\"#00cc96\",\"pattern\":{\"shape\":\"\"}},\"name\":\"CIRRUS DESIGN CORP\",\"offsetgroup\":\"CIRRUS DESIGN CORP\",\"orientation\":\"v\",\"showlegend\":true,\"textposition\":\"auto\",\"x\":[\"ABQ\",\"AUS\",\"BOS\",\"BQN\",\"BTV\",\"BUF\",\"BUR\",\"DEN\",\"FLL\",\"HOU\",\"JAX\",\"LAS\",\"LAX\",\"LGB\",\"MCO\",\"MSY\",\"OAK\",\"ORD\",\"PBI\",\"PDX\",\"PHX\",\"PSE\",\"ROC\",\"RSW\",\"SAN\",\"SEA\",\"SFO\",\"SJC\",\"SJU\",\"SMF\",\"SRQ\",\"SYR\",\"TPA\"],\"xaxis\":\"x\",\"y\":[1,3,2,3,3,1,1,1,46,1,3,10,1,2,46,7,2,1,23,2,3,2,3,17,4,2,2,3,17,3,5,1,18],\"yaxis\":\"y\",\"type\":\"bar\"},{\"alignmentgroup\":\"True\",\"hovertemplate\":\"manufacturer=DEHAVILLAND<br>dest=%{x}<br>Nombre de transporteur=%{y}<extra></extra>\",\"legendgroup\":\"DEHAVILLAND\",\"marker\":{\"color\":\"#ab63fa\",\"pattern\":{\"shape\":\"\"}},\"name\":\"DEHAVILLAND\",\"offsetgroup\":\"DEHAVILLAND\",\"orientation\":\"v\",\"showlegend\":true,\"textposition\":\"auto\",\"x\":[\"DFW\",\"ORD\",\"STL\"],\"xaxis\":\"x\",\"y\":[14,25,3],\"yaxis\":\"y\",\"type\":\"bar\"},{\"alignmentgroup\":\"True\",\"hovertemplate\":\"manufacturer=DOUGLAS<br>dest=%{x}<br>Nombre de transporteur=%{y}<extra></extra>\",\"legendgroup\":\"DOUGLAS\",\"marker\":{\"color\":\"#FFA15A\",\"pattern\":{\"shape\":\"\"}},\"name\":\"DOUGLAS\",\"offsetgroup\":\"DOUGLAS\",\"orientation\":\"v\",\"showlegend\":true,\"textposition\":\"auto\",\"x\":[\"MIA\",\"SAN\",\"SFO\"],\"xaxis\":\"x\",\"y\":[4,1,11],\"yaxis\":\"y\",\"type\":\"bar\"},{\"alignmentgroup\":\"True\",\"hovertemplate\":\"manufacturer=EMBRAER<br>dest=%{x}<br>Nombre de transporteur=%{y}<extra></extra>\",\"legendgroup\":\"EMBRAER\",\"marker\":{\"color\":\"#19d3f3\",\"pattern\":{\"shape\":\"\"}},\"name\":\"EMBRAER\",\"offsetgroup\":\"EMBRAER\",\"orientation\":\"v\",\"showlegend\":true,\"textposition\":\"auto\",\"x\":[\"ACK\",\"ALB\",\"ATL\",\"AUS\",\"AVL\",\"BDL\",\"BNA\",\"BOS\",\"BTV\",\"BUF\",\"BWI\",\"CAE\",\"CHS\",\"CLE\",\"CLT\",\"CMH\",\"CVG\",\"DAY\",\"DCA\",\"DSM\",\"DTW\",\"FLL\",\"GRR\",\"GSO\",\"GSP\",\"HOU\",\"IAD\",\"IND\",\"JAX\",\"MCI\",\"MCO\",\"MEM\",\"MHT\",\"MKE\",\"MSN\",\"MSP\",\"MSY\",\"MVY\",\"MYR\",\"OKC\",\"OMA\",\"ORD\",\"ORF\",\"PBI\",\"PHL\",\"PIT\",\"PVD\",\"PWM\",\"RDU\",\"RIC\",\"ROC\",\"RSW\",\"SAV\",\"SBN\",\"SDF\",\"SJU\",\"SRQ\",\"STL\",\"SYR\",\"TPA\",\"TUL\",\"TYS\",\"XNA\"],\"xaxis\":\"x\",\"y\":[92,386,953,238,164,346,1294,5514,1712,2376,308,78,1479,401,1878,503,1369,869,1801,300,1071,292,543,864,588,502,1486,1004,1586,1012,167,697,693,834,266,886,1013,50,56,258,526,544,435,122,406,506,331,1546,1788,1245,1229,216,560,1,663,90,150,1371,919,215,239,247,224],\"yaxis\":\"y\",\"type\":\"bar\"},{\"alignmentgroup\":\"True\",\"hovertemplate\":\"manufacturer=FRIEDEMANN JON<br>dest=%{x}<br>Nombre de transporteur=%{y}<extra></extra>\",\"legendgroup\":\"FRIEDEMANN JON\",\"marker\":{\"color\":\"#FF6692\",\"pattern\":{\"shape\":\"\"}},\"name\":\"FRIEDEMANN JON\",\"offsetgroup\":\"FRIEDEMANN JON\",\"orientation\":\"v\",\"showlegend\":true,\"textposition\":\"auto\",\"x\":[\"DFW\",\"ORD\",\"STL\"],\"xaxis\":\"x\",\"y\":[16,27,4],\"yaxis\":\"y\",\"type\":\"bar\"},{\"alignmentgroup\":\"True\",\"hovertemplate\":\"manufacturer=GULFSTREAM AEROSPACE<br>dest=%{x}<br>Nombre de transporteur=%{y}<extra></extra>\",\"legendgroup\":\"GULFSTREAM AEROSPACE\",\"marker\":{\"color\":\"#B6E880\",\"pattern\":{\"shape\":\"\"}},\"name\":\"GULFSTREAM AEROSPACE\",\"offsetgroup\":\"GULFSTREAM AEROSPACE\",\"orientation\":\"v\",\"showlegend\":true,\"textposition\":\"auto\",\"x\":[\"BNA\",\"BOS\",\"CLE\",\"CMH\",\"CRW\",\"DCA\",\"DTW\",\"MIA\",\"RDU\",\"SFO\",\"TVC\",\"XNA\"],\"xaxis\":\"x\",\"y\":[11,1,40,75,10,1,71,3,126,3,1,41],\"yaxis\":\"y\",\"type\":\"bar\"},{\"alignmentgroup\":\"True\",\"hovertemplate\":\"manufacturer=HURLEY JAMES LARRY<br>dest=%{x}<br>Nombre de transporteur=%{y}<extra></extra>\",\"legendgroup\":\"HURLEY JAMES LARRY\",\"marker\":{\"color\":\"#FF97FF\",\"pattern\":{\"shape\":\"\"}},\"name\":\"HURLEY JAMES LARRY\",\"offsetgroup\":\"HURLEY JAMES LARRY\",\"orientation\":\"v\",\"showlegend\":true,\"textposition\":\"auto\",\"x\":[\"DFW\",\"ORD\",\"STL\"],\"xaxis\":\"x\",\"y\":[8,5,1],\"yaxis\":\"y\",\"type\":\"bar\"},{\"alignmentgroup\":\"True\",\"hovertemplate\":\"manufacturer=JOHN G HESS<br>dest=%{x}<br>Nombre de transporteur=%{y}<extra></extra>\",\"legendgroup\":\"JOHN G HESS\",\"marker\":{\"color\":\"#FECB52\",\"pattern\":{\"shape\":\"\"}},\"name\":\"JOHN G HESS\",\"offsetgroup\":\"JOHN G HESS\",\"orientation\":\"v\",\"showlegend\":true,\"textposition\":\"auto\",\"x\":[\"ATL\"],\"xaxis\":\"x\",\"y\":[3],\"yaxis\":\"y\",\"type\":\"bar\"},{\"alignmentgroup\":\"True\",\"hovertemplate\":\"manufacturer=KILDALL GARY<br>dest=%{x}<br>Nombre de transporteur=%{y}<extra></extra>\",\"legendgroup\":\"KILDALL GARY\",\"marker\":{\"color\":\"#636efa\",\"pattern\":{\"shape\":\"\"}},\"name\":\"KILDALL GARY\",\"offsetgroup\":\"KILDALL GARY\",\"orientation\":\"v\",\"showlegend\":true,\"textposition\":\"auto\",\"x\":[\"DFW\",\"ORD\",\"STL\"],\"xaxis\":\"x\",\"y\":[9,19,9],\"yaxis\":\"y\",\"type\":\"bar\"},{\"alignmentgroup\":\"True\",\"hovertemplate\":\"manufacturer=LAMBERT RICHARD<br>dest=%{x}<br>Nombre de transporteur=%{y}<extra></extra>\",\"legendgroup\":\"LAMBERT RICHARD\",\"marker\":{\"color\":\"#EF553B\",\"pattern\":{\"shape\":\"\"}},\"name\":\"LAMBERT RICHARD\",\"offsetgroup\":\"LAMBERT RICHARD\",\"orientation\":\"v\",\"showlegend\":true,\"textposition\":\"auto\",\"x\":[\"DFW\",\"ORD\",\"STL\"],\"xaxis\":\"x\",\"y\":[15,13,7],\"yaxis\":\"y\",\"type\":\"bar\"},{\"alignmentgroup\":\"True\",\"hovertemplate\":\"manufacturer=LEARJET INC<br>dest=%{x}<br>Nombre de transporteur=%{y}<extra></extra>\",\"legendgroup\":\"LEARJET INC\",\"marker\":{\"color\":\"#00cc96\",\"pattern\":{\"shape\":\"\"}},\"name\":\"LEARJET INC\",\"offsetgroup\":\"LEARJET INC\",\"orientation\":\"v\",\"showlegend\":true,\"textposition\":\"auto\",\"x\":[\"MIA\",\"SFO\"],\"xaxis\":\"x\",\"y\":[5,11],\"yaxis\":\"y\",\"type\":\"bar\"},{\"alignmentgroup\":\"True\",\"hovertemplate\":\"manufacturer=LEBLANC GLENN T<br>dest=%{x}<br>Nombre de transporteur=%{y}<extra></extra>\",\"legendgroup\":\"LEBLANC GLENN T\",\"marker\":{\"color\":\"#ab63fa\",\"pattern\":{\"shape\":\"\"}},\"name\":\"LEBLANC GLENN T\",\"offsetgroup\":\"LEBLANC GLENN T\",\"orientation\":\"v\",\"showlegend\":true,\"textposition\":\"auto\",\"x\":[\"DFW\",\"ORD\",\"STL\"],\"xaxis\":\"x\",\"y\":[8,17,1],\"yaxis\":\"y\",\"type\":\"bar\"},{\"alignmentgroup\":\"True\",\"hovertemplate\":\"manufacturer=MARZ BARRY<br>dest=%{x}<br>Nombre de transporteur=%{y}<extra></extra>\",\"legendgroup\":\"MARZ BARRY\",\"marker\":{\"color\":\"#FFA15A\",\"pattern\":{\"shape\":\"\"}},\"name\":\"MARZ BARRY\",\"offsetgroup\":\"MARZ BARRY\",\"orientation\":\"v\",\"showlegend\":true,\"textposition\":\"auto\",\"x\":[\"DFW\",\"ORD\",\"STL\"],\"xaxis\":\"x\",\"y\":[15,18,5],\"yaxis\":\"y\",\"type\":\"bar\"},{\"alignmentgroup\":\"True\",\"hovertemplate\":\"manufacturer=MCDONNELL<br>dest=%{x}<br>Nombre de transporteur=%{y}<extra></extra>\",\"legendgroup\":\"MCDONNELL\",\"marker\":{\"color\":\"#19d3f3\",\"pattern\":{\"shape\":\"\"}},\"name\":\"MCDONNELL\",\"offsetgroup\":\"MCDONNELL\",\"orientation\":\"v\",\"showlegend\":true,\"textposition\":\"auto\",\"x\":[\"ATL\",\"BOS\",\"DFW\",\"DTW\",\"MCO\",\"MIA\",\"MSP\",\"ORD\",\"STL\",\"TPA\",\"ATL\",\"AUS\",\"BOS\",\"DTW\",\"FLL\",\"JAX\",\"MCO\",\"MEM\",\"MIA\",\"MSP\",\"MSY\",\"PBI\",\"PIT\",\"PWM\",\"RSW\",\"SRQ\",\"TPA\",\"ATL\",\"BOS\",\"DTW\",\"FLL\",\"MCO\",\"MIA\",\"MSP\",\"PBI\",\"PIT\",\"PWM\",\"RSW\",\"SRQ\",\"TPA\"],\"xaxis\":\"x\",\"y\":[54,2,1003,35,1,4,16,1514,297,4,1442,1,49,593,636,1,1113,2,1053,596,5,239,16,1,141,156,575,193,7,80,77,181,123,101,28,4,1,9,25,70],\"yaxis\":\"y\",\"type\":\"bar\"},{\"alignmentgroup\":\"True\",\"hovertemplate\":\"manufacturer=PAIR MIKE E<br>dest=%{x}<br>Nombre de transporteur=%{y}<extra></extra>\",\"legendgroup\":\"PAIR MIKE E\",\"marker\":{\"color\":\"#FF6692\",\"pattern\":{\"shape\":\"\"}},\"name\":\"PAIR MIKE E\",\"offsetgroup\":\"PAIR MIKE E\",\"orientation\":\"v\",\"showlegend\":true,\"textposition\":\"auto\",\"x\":[\"MIA\",\"SAN\",\"SFO\"],\"xaxis\":\"x\",\"y\":[6,1,17],\"yaxis\":\"y\",\"type\":\"bar\"},{\"alignmentgroup\":\"True\",\"hovertemplate\":\"manufacturer=PIPER<br>dest=%{x}<br>Nombre de transporteur=%{y}<extra></extra>\",\"legendgroup\":\"PIPER\",\"marker\":{\"color\":\"#B6E880\",\"pattern\":{\"shape\":\"\"}},\"name\":\"PIPER\",\"offsetgroup\":\"PIPER\",\"orientation\":\"v\",\"showlegend\":true,\"textposition\":\"auto\",\"x\":[\"DFW\",\"MIA\",\"ORD\",\"SAN\",\"SFO\",\"STL\"],\"xaxis\":\"x\",\"y\":[42,8,41,2,6,12],\"yaxis\":\"y\",\"type\":\"bar\"},{\"alignmentgroup\":\"True\",\"hovertemplate\":\"manufacturer=ROBINSON HELICOPTER CO<br>dest=%{x}<br>Nombre de transporteur=%{y}<extra></extra>\",\"legendgroup\":\"ROBINSON HELICOPTER CO\",\"marker\":{\"color\":\"#FF97FF\",\"pattern\":{\"shape\":\"\"}},\"name\":\"ROBINSON HELICOPTER CO\",\"offsetgroup\":\"ROBINSON HELICOPTER CO\",\"orientation\":\"v\",\"showlegend\":true,\"textposition\":\"auto\",\"x\":[\"ABQ\",\"AUS\",\"BOS\",\"BQN\",\"BTV\",\"BUF\",\"BUR\",\"DEN\",\"FLL\",\"JAX\",\"LAS\",\"LAX\",\"LGB\",\"MCO\",\"MSY\",\"OAK\",\"PBI\",\"PDX\",\"PHX\",\"PSE\",\"ROC\",\"RSW\",\"SAN\",\"SFO\",\"SJU\",\"SLC\",\"SMF\",\"SRQ\",\"SYR\",\"TPA\"],\"xaxis\":\"x\",\"y\":[1,3,11,3,2,7,1,4,47,1,5,2,1,35,3,3,18,1,3,1,1,14,3,5,17,3,1,5,2,18],\"yaxis\":\"y\",\"type\":\"bar\"},{\"alignmentgroup\":\"True\",\"hovertemplate\":\"manufacturer=SIKORSKY<br>dest=%{x}<br>Nombre de transporteur=%{y}<extra></extra>\",\"legendgroup\":\"SIKORSKY\",\"marker\":{\"color\":\"#FECB52\",\"pattern\":{\"shape\":\"\"}},\"name\":\"SIKORSKY\",\"offsetgroup\":\"SIKORSKY\",\"orientation\":\"v\",\"showlegend\":true,\"textposition\":\"auto\",\"x\":[\"MIA\",\"SFO\",\"SJU\"],\"xaxis\":\"x\",\"y\":[9,13,1],\"yaxis\":\"y\",\"type\":\"bar\"},{\"alignmentgroup\":\"True\",\"hovertemplate\":\"manufacturer=STEWART MACO<br>dest=%{x}<br>Nombre de transporteur=%{y}<extra></extra>\",\"legendgroup\":\"STEWART MACO\",\"marker\":{\"color\":\"#636efa\",\"pattern\":{\"shape\":\"\"}},\"name\":\"STEWART MACO\",\"offsetgroup\":\"STEWART MACO\",\"orientation\":\"v\",\"showlegend\":true,\"textposition\":\"auto\",\"x\":[\"DFW\",\"MIA\",\"ORD\",\"SFO\",\"STL\"],\"xaxis\":\"x\",\"y\":[13,6,11,8,2],\"yaxis\":\"y\",\"type\":\"bar\"}],                        {\"template\":{\"data\":{\"histogram2dcontour\":[{\"type\":\"histogram2dcontour\",\"colorbar\":{\"outlinewidth\":0,\"ticks\":\"\"},\"colorscale\":[[0.0,\"#0d0887\"],[0.1111111111111111,\"#46039f\"],[0.2222222222222222,\"#7201a8\"],[0.3333333333333333,\"#9c179e\"],[0.4444444444444444,\"#bd3786\"],[0.5555555555555556,\"#d8576b\"],[0.6666666666666666,\"#ed7953\"],[0.7777777777777778,\"#fb9f3a\"],[0.8888888888888888,\"#fdca26\"],[1.0,\"#f0f921\"]]}],\"choropleth\":[{\"type\":\"choropleth\",\"colorbar\":{\"outlinewidth\":0,\"ticks\":\"\"}}],\"histogram2d\":[{\"type\":\"histogram2d\",\"colorbar\":{\"outlinewidth\":0,\"ticks\":\"\"},\"colorscale\":[[0.0,\"#0d0887\"],[0.1111111111111111,\"#46039f\"],[0.2222222222222222,\"#7201a8\"],[0.3333333333333333,\"#9c179e\"],[0.4444444444444444,\"#bd3786\"],[0.5555555555555556,\"#d8576b\"],[0.6666666666666666,\"#ed7953\"],[0.7777777777777778,\"#fb9f3a\"],[0.8888888888888888,\"#fdca26\"],[1.0,\"#f0f921\"]]}],\"heatmap\":[{\"type\":\"heatmap\",\"colorbar\":{\"outlinewidth\":0,\"ticks\":\"\"},\"colorscale\":[[0.0,\"#0d0887\"],[0.1111111111111111,\"#46039f\"],[0.2222222222222222,\"#7201a8\"],[0.3333333333333333,\"#9c179e\"],[0.4444444444444444,\"#bd3786\"],[0.5555555555555556,\"#d8576b\"],[0.6666666666666666,\"#ed7953\"],[0.7777777777777778,\"#fb9f3a\"],[0.8888888888888888,\"#fdca26\"],[1.0,\"#f0f921\"]]}],\"heatmapgl\":[{\"type\":\"heatmapgl\",\"colorbar\":{\"outlinewidth\":0,\"ticks\":\"\"},\"colorscale\":[[0.0,\"#0d0887\"],[0.1111111111111111,\"#46039f\"],[0.2222222222222222,\"#7201a8\"],[0.3333333333333333,\"#9c179e\"],[0.4444444444444444,\"#bd3786\"],[0.5555555555555556,\"#d8576b\"],[0.6666666666666666,\"#ed7953\"],[0.7777777777777778,\"#fb9f3a\"],[0.8888888888888888,\"#fdca26\"],[1.0,\"#f0f921\"]]}],\"contourcarpet\":[{\"type\":\"contourcarpet\",\"colorbar\":{\"outlinewidth\":0,\"ticks\":\"\"}}],\"contour\":[{\"type\":\"contour\",\"colorbar\":{\"outlinewidth\":0,\"ticks\":\"\"},\"colorscale\":[[0.0,\"#0d0887\"],[0.1111111111111111,\"#46039f\"],[0.2222222222222222,\"#7201a8\"],[0.3333333333333333,\"#9c179e\"],[0.4444444444444444,\"#bd3786\"],[0.5555555555555556,\"#d8576b\"],[0.6666666666666666,\"#ed7953\"],[0.7777777777777778,\"#fb9f3a\"],[0.8888888888888888,\"#fdca26\"],[1.0,\"#f0f921\"]]}],\"surface\":[{\"type\":\"surface\",\"colorbar\":{\"outlinewidth\":0,\"ticks\":\"\"},\"colorscale\":[[0.0,\"#0d0887\"],[0.1111111111111111,\"#46039f\"],[0.2222222222222222,\"#7201a8\"],[0.3333333333333333,\"#9c179e\"],[0.4444444444444444,\"#bd3786\"],[0.5555555555555556,\"#d8576b\"],[0.6666666666666666,\"#ed7953\"],[0.7777777777777778,\"#fb9f3a\"],[0.8888888888888888,\"#fdca26\"],[1.0,\"#f0f921\"]]}],\"mesh3d\":[{\"type\":\"mesh3d\",\"colorbar\":{\"outlinewidth\":0,\"ticks\":\"\"}}],\"scatter\":[{\"fillpattern\":{\"fillmode\":\"overlay\",\"size\":10,\"solidity\":0.2},\"type\":\"scatter\"}],\"parcoords\":[{\"type\":\"parcoords\",\"line\":{\"colorbar\":{\"outlinewidth\":0,\"ticks\":\"\"}}}],\"scatterpolargl\":[{\"type\":\"scatterpolargl\",\"marker\":{\"colorbar\":{\"outlinewidth\":0,\"ticks\":\"\"}}}],\"bar\":[{\"error_x\":{\"color\":\"#2a3f5f\"},\"error_y\":{\"color\":\"#2a3f5f\"},\"marker\":{\"line\":{\"color\":\"#E5ECF6\",\"width\":0.5},\"pattern\":{\"fillmode\":\"overlay\",\"size\":10,\"solidity\":0.2}},\"type\":\"bar\"}],\"scattergeo\":[{\"type\":\"scattergeo\",\"marker\":{\"colorbar\":{\"outlinewidth\":0,\"ticks\":\"\"}}}],\"scatterpolar\":[{\"type\":\"scatterpolar\",\"marker\":{\"colorbar\":{\"outlinewidth\":0,\"ticks\":\"\"}}}],\"histogram\":[{\"marker\":{\"pattern\":{\"fillmode\":\"overlay\",\"size\":10,\"solidity\":0.2}},\"type\":\"histogram\"}],\"scattergl\":[{\"type\":\"scattergl\",\"marker\":{\"colorbar\":{\"outlinewidth\":0,\"ticks\":\"\"}}}],\"scatter3d\":[{\"type\":\"scatter3d\",\"line\":{\"colorbar\":{\"outlinewidth\":0,\"ticks\":\"\"}},\"marker\":{\"colorbar\":{\"outlinewidth\":0,\"ticks\":\"\"}}}],\"scattermapbox\":[{\"type\":\"scattermapbox\",\"marker\":{\"colorbar\":{\"outlinewidth\":0,\"ticks\":\"\"}}}],\"scatterternary\":[{\"type\":\"scatterternary\",\"marker\":{\"colorbar\":{\"outlinewidth\":0,\"ticks\":\"\"}}}],\"scattercarpet\":[{\"type\":\"scattercarpet\",\"marker\":{\"colorbar\":{\"outlinewidth\":0,\"ticks\":\"\"}}}],\"carpet\":[{\"aaxis\":{\"endlinecolor\":\"#2a3f5f\",\"gridcolor\":\"white\",\"linecolor\":\"white\",\"minorgridcolor\":\"white\",\"startlinecolor\":\"#2a3f5f\"},\"baxis\":{\"endlinecolor\":\"#2a3f5f\",\"gridcolor\":\"white\",\"linecolor\":\"white\",\"minorgridcolor\":\"white\",\"startlinecolor\":\"#2a3f5f\"},\"type\":\"carpet\"}],\"table\":[{\"cells\":{\"fill\":{\"color\":\"#EBF0F8\"},\"line\":{\"color\":\"white\"}},\"header\":{\"fill\":{\"color\":\"#C8D4E3\"},\"line\":{\"color\":\"white\"}},\"type\":\"table\"}],\"barpolar\":[{\"marker\":{\"line\":{\"color\":\"#E5ECF6\",\"width\":0.5},\"pattern\":{\"fillmode\":\"overlay\",\"size\":10,\"solidity\":0.2}},\"type\":\"barpolar\"}],\"pie\":[{\"automargin\":true,\"type\":\"pie\"}]},\"layout\":{\"autotypenumbers\":\"strict\",\"colorway\":[\"#636efa\",\"#EF553B\",\"#00cc96\",\"#ab63fa\",\"#FFA15A\",\"#19d3f3\",\"#FF6692\",\"#B6E880\",\"#FF97FF\",\"#FECB52\"],\"font\":{\"color\":\"#2a3f5f\"},\"hovermode\":\"closest\",\"hoverlabel\":{\"align\":\"left\"},\"paper_bgcolor\":\"white\",\"plot_bgcolor\":\"#E5ECF6\",\"polar\":{\"bgcolor\":\"#E5ECF6\",\"angularaxis\":{\"gridcolor\":\"white\",\"linecolor\":\"white\",\"ticks\":\"\"},\"radialaxis\":{\"gridcolor\":\"white\",\"linecolor\":\"white\",\"ticks\":\"\"}},\"ternary\":{\"bgcolor\":\"#E5ECF6\",\"aaxis\":{\"gridcolor\":\"white\",\"linecolor\":\"white\",\"ticks\":\"\"},\"baxis\":{\"gridcolor\":\"white\",\"linecolor\":\"white\",\"ticks\":\"\"},\"caxis\":{\"gridcolor\":\"white\",\"linecolor\":\"white\",\"ticks\":\"\"}},\"coloraxis\":{\"colorbar\":{\"outlinewidth\":0,\"ticks\":\"\"}},\"colorscale\":{\"sequential\":[[0.0,\"#0d0887\"],[0.1111111111111111,\"#46039f\"],[0.2222222222222222,\"#7201a8\"],[0.3333333333333333,\"#9c179e\"],[0.4444444444444444,\"#bd3786\"],[0.5555555555555556,\"#d8576b\"],[0.6666666666666666,\"#ed7953\"],[0.7777777777777778,\"#fb9f3a\"],[0.8888888888888888,\"#fdca26\"],[1.0,\"#f0f921\"]],\"sequentialminus\":[[0.0,\"#0d0887\"],[0.1111111111111111,\"#46039f\"],[0.2222222222222222,\"#7201a8\"],[0.3333333333333333,\"#9c179e\"],[0.4444444444444444,\"#bd3786\"],[0.5555555555555556,\"#d8576b\"],[0.6666666666666666,\"#ed7953\"],[0.7777777777777778,\"#fb9f3a\"],[0.8888888888888888,\"#fdca26\"],[1.0,\"#f0f921\"]],\"diverging\":[[0,\"#8e0152\"],[0.1,\"#c51b7d\"],[0.2,\"#de77ae\"],[0.3,\"#f1b6da\"],[0.4,\"#fde0ef\"],[0.5,\"#f7f7f7\"],[0.6,\"#e6f5d0\"],[0.7,\"#b8e186\"],[0.8,\"#7fbc41\"],[0.9,\"#4d9221\"],[1,\"#276419\"]]},\"xaxis\":{\"gridcolor\":\"white\",\"linecolor\":\"white\",\"ticks\":\"\",\"title\":{\"standoff\":15},\"zerolinecolor\":\"white\",\"automargin\":true,\"zerolinewidth\":2},\"yaxis\":{\"gridcolor\":\"white\",\"linecolor\":\"white\",\"ticks\":\"\",\"title\":{\"standoff\":15},\"zerolinecolor\":\"white\",\"automargin\":true,\"zerolinewidth\":2},\"scene\":{\"xaxis\":{\"backgroundcolor\":\"#E5ECF6\",\"gridcolor\":\"white\",\"linecolor\":\"white\",\"showbackground\":true,\"ticks\":\"\",\"zerolinecolor\":\"white\",\"gridwidth\":2},\"yaxis\":{\"backgroundcolor\":\"#E5ECF6\",\"gridcolor\":\"white\",\"linecolor\":\"white\",\"showbackground\":true,\"ticks\":\"\",\"zerolinecolor\":\"white\",\"gridwidth\":2},\"zaxis\":{\"backgroundcolor\":\"#E5ECF6\",\"gridcolor\":\"white\",\"linecolor\":\"white\",\"showbackground\":true,\"ticks\":\"\",\"zerolinecolor\":\"white\",\"gridwidth\":2}},\"shapedefaults\":{\"line\":{\"color\":\"#2a3f5f\"}},\"annotationdefaults\":{\"arrowcolor\":\"#2a3f5f\",\"arrowhead\":0,\"arrowwidth\":1},\"geo\":{\"bgcolor\":\"white\",\"landcolor\":\"#E5ECF6\",\"subunitcolor\":\"white\",\"showland\":true,\"showlakes\":true,\"lakecolor\":\"white\"},\"title\":{\"x\":0.05},\"mapbox\":{\"style\":\"light\"}}},\"xaxis\":{\"anchor\":\"y\",\"domain\":[0.0,1.0],\"title\":{\"text\":\"dest\"}},\"yaxis\":{\"anchor\":\"x\",\"domain\":[0.0,1.0],\"title\":{\"text\":\"Nombre de transporteur\"}},\"legend\":{\"title\":{\"text\":\"manufacturer\"},\"tracegroupgap\":0},\"margin\":{\"t\":60},\"barmode\":\"relative\"},                        {\"responsive\": true}                    ).then(function(){\n",
       "                            \n",
       "var gd = document.getElementById('49760e81-d562-4057-9f5e-a24b814c88f5');\n",
       "var x = new MutationObserver(function (mutations, observer) {{\n",
       "        var display = window.getComputedStyle(gd).display;\n",
       "        if (!display || display === 'none') {{\n",
       "            console.log([gd, 'removed!']);\n",
       "            Plotly.purge(gd);\n",
       "            observer.disconnect();\n",
       "        }}\n",
       "}});\n",
       "\n",
       "// Listen for the removal of the full notebook cells\n",
       "var notebookContainer = gd.closest('#notebook-container');\n",
       "if (notebookContainer) {{\n",
       "    x.observe(notebookContainer, {childList: true});\n",
       "}}\n",
       "\n",
       "// Listen for the clearing of the current output cell\n",
       "var outputEl = gd.closest('.output');\n",
       "if (outputEl) {{\n",
       "    x.observe(outputEl, {childList: true});\n",
       "}}\n",
       "\n",
       "                        })                };                            </script>        </div>\n",
       "</body>\n",
       "</html>"
      ]
     },
     "metadata": {},
     "output_type": "display_data"
    }
   ],
   "source": [
    "graphCarrier = px.bar(GroupCompPerDest, x='dest', y='counts',color='manufacturer',\n",
    "            labels={\"counts\": \"Nombre de transporteur\", \"carrier\": \"Transporter\"})\n",
    "graphCarrier.show()"
   ]
  },
  {
   "cell_type": "code",
   "execution_count": 16,
   "metadata": {
    "cell_id": "c87a1ca370e54ba1b30ead48d1f40994",
    "deepnote_cell_type": "code",
    "deepnote_to_be_reexecuted": false,
    "execution_millis": 4,
    "execution_start": 1671182965698,
    "source_hash": "5ad11905",
    "tags": []
   },
   "outputs": [
    {
     "name": "stdout",
     "output_type": "stream",
     "text": [
      "+-------+--------------------+\n",
      "|carrier|                name|\n",
      "+-------+--------------------+\n",
      "|     9E|   Endeavor Air Inc.|\n",
      "|     AA|American Airlines...|\n",
      "|     AS|Alaska Airlines Inc.|\n",
      "|     B6|     JetBlue Airways|\n",
      "|     DL|Delta Air Lines Inc.|\n",
      "|     EV|ExpressJet Airlin...|\n",
      "|     F9|Frontier Airlines...|\n",
      "|     FL|AirTran Airways C...|\n",
      "|     HA|Hawaiian Airlines...|\n",
      "|     MQ|           Envoy Air|\n",
      "|     OO|SkyWest Airlines ...|\n",
      "|     UA|United Air Lines ...|\n",
      "|     US|     US Airways Inc.|\n",
      "|     VX|      Virgin America|\n",
      "|     WN|Southwest Airline...|\n",
      "|     YV|  Mesa Airlines Inc.|\n",
      "+-------+--------------------+\n",
      "\n"
     ]
    }
   ],
   "source": [
    "#airlines.show()"
   ]
  },
  {
   "cell_type": "markdown",
   "metadata": {
    "cell_id": "f4eb548c4c594aa99dbdbe9366335806",
    "deepnote_cell_type": "text-cell-number",
    "formattedRanges": [],
    "is_collapsed": false,
    "number": 4,
    "style": "decimal",
    "tags": []
   },
   "source": [
    "4. Trouvez tous les vols ayant atterri à Houston (IAH ou HOU) ? Combien de vols partent de NYC airports vers Seattle, combien de compagnies desservent cette destination et combien d’avions “uniques” ? "
   ]
  },
  {
   "cell_type": "code",
   "execution_count": 155,
   "metadata": {
    "cell_id": "f8662c42ba6e41488e0436f320b7c9fb",
    "deepnote_cell_type": "code",
    "deepnote_to_be_reexecuted": false,
    "execution_millis": 791,
    "execution_start": 1671187859469,
    "source_hash": "c3f3c604",
    "tags": []
   },
   "outputs": [
    {
     "name": "stdout",
     "output_type": "stream",
     "text": [
      "Il y a 6958 vols qui ont atteri à Houston \n",
      "\n",
      "Aeroport de Seattle:\n",
      "+---+-------------------+------+-----------+---+---+---+-------------------+\n",
      "|faa|               name|   lat|        lon|alt| tz|dst|              tzone|\n",
      "+---+-------------------+------+-----------+---+---+---+-------------------+\n",
      "|SEA|Seattle Tacoma Intl|47.449|-122.309306|433| -8|  A|America/Los_Angeles|\n",
      "+---+-------------------+------+-----------+---+---+---+-------------------+\n",
      "\n",
      "Il y a 252704 vols qui sont partis de new york qui representent les 3 aeroports JFK,EWR et LGA\n",
      "\n",
      "Il y a 2736 vols qui ont atteri à Seattle \n",
      "\n",
      "Les compagnies qui desservent Seattle sont les suivantes:\n",
      "+--------------------+--------------+\n",
      "|                name|count(carrier)|\n",
      "+--------------------+--------------+\n",
      "|United Air Lines ...|           767|\n",
      "|     JetBlue Airways|           339|\n",
      "|Alaska Airlines Inc.|           535|\n",
      "|Delta Air Lines Inc.|           820|\n",
      "|American Airlines...|           275|\n",
      "+--------------------+--------------+\n",
      "\n",
      "Ci-dessous les avions qui ont desservi Seattle:\n",
      "+-------+-----+\n",
      "|tailnum|count|\n",
      "+-------+-----+\n",
      "| N835UA|    1|\n",
      "| N3KMAA|    1|\n",
      "| N320AS|    1|\n",
      "| N175DN|    1|\n",
      "| N404UA|    1|\n",
      "| N3JLAA|    1|\n",
      "| N838UA|    1|\n",
      "| N846UA|    1|\n",
      "| N3ANAA|    1|\n",
      "| N820UA|    1|\n",
      "| N323AS|    1|\n",
      "| N419UA|    1|\n",
      "| N579AS|    1|\n",
      "| N834UA|    1|\n",
      "| N3DNAA|    1|\n",
      "| N3BBAA|    1|\n",
      "| N836UA|    1|\n",
      "| N14214|    1|\n",
      "| N829UA|    1|\n",
      "| N3ESAA|    1|\n",
      "+-------+-----+\n",
      "only showing top 20 rows\n",
      "\n"
     ]
    }
   ],
   "source": [
    "flightsToHouston = flights.filter((flights.dest.like(\"IAH\")) | (flights.dest.like(\"HOU\")))\n",
    "HoustonCount = flightsToHouston.count()\n",
    "print(\"Il y a \" + str(HoustonCount) + \" vols qui ont atteri à Houston \\n\")\n",
    "\n",
    "#Aeroport a Seattle \n",
    "seattle = airports.filter(F.col('name').like(\"%Seattle%\"))\n",
    "print(\"Aeroport de Seattle:\")\n",
    "seattle.show()\n",
    "\n",
    "#Vols en depart de la ville de New York\n",
    "flightsFromNyc = flights.filter((flights.origin.like(\"LGA\")) | (flights.origin.like(\"EWR\"))| (flights.origin.like(\"JFK\")))\n",
    "print(\"Il y a \" + str(flightsFromNyc.count()) + \" vols qui sont partis de new york qui representent les 3 aeroports JFK,EWR et LGA\\n\")\n",
    "\n",
    "\n",
    "# combien de compagnie desservent seattle : \n",
    "destSeattle = flights.filter(\"dest == 'SEA'\")\n",
    "print(\"Il y a \" + str(destSeattle.count()) + \" vols qui ont atteri à Seattle \\n\")\n",
    "\n",
    "print(\"Les compagnies qui desservent Seattle sont les suivantes:\")\n",
    "flights_join_airlines = airlines.join(destSeattle, \"carrier\",\"inner\")\n",
    "flights_join_airlines.groupBy('name').agg({'carrier':'count'}).show()\n",
    "uniqueflights = flights_join_airlines.groupBy('tailnum').agg({'carrier':'count'})\n",
    "\n",
    "print(\"Ci-dessous les avions qui ont desservi Seattle:\")\n",
    "uniqueflights.filter(uniqueflights['count(carrier)'] == 1).withColumnRenamed('count(carrier)','count').show()"
   ]
  },
  {
   "cell_type": "markdown",
   "metadata": {
    "cell_id": "dc482518a60a4130ac3e778e45852f79",
    "deepnote_cell_type": "text-cell-number",
    "formattedRanges": [],
    "is_collapsed": false,
    "number": 5,
    "style": "decimal",
    "tags": []
   },
   "source": [
    "5. Trouver le nombre de vols par destination ? Trier les vols suivant la destination, l’aéroport d’origine, la compagnie dans un ordre alphabétique croissant (en réalisant les jointures nécessaires pour obtenir les noms des explicites des aéroports) ?"
   ]
  },
  {
   "cell_type": "code",
   "execution_count": 18,
   "metadata": {
    "cell_id": "0e2ea6fc2731498f88cc1988e5afac30",
    "deepnote_cell_type": "code",
    "deepnote_to_be_reexecuted": false,
    "execution_millis": 1482,
    "execution_start": 1671182966769,
    "source_hash": "ef877ffb",
    "tags": []
   },
   "outputs": [
    {
     "name": "stdout",
     "output_type": "stream",
     "text": [
      "+----+-----+\n",
      "|dest|count|\n",
      "+----+-----+\n",
      "| PSE|  275|\n",
      "| MSY| 2831|\n",
      "| SNA|  600|\n",
      "| BUR|  281|\n",
      "| GRR|  589|\n",
      "| MYR|   58|\n",
      "| GSO| 1199|\n",
      "| PVD|  331|\n",
      "| OAK|  222|\n",
      "| MSN|  441|\n",
      "| DCA| 7386|\n",
      "| ORF| 1214|\n",
      "| CRW|  138|\n",
      "| SAV|  598|\n",
      "| CMH| 2609|\n",
      "| CAK|  622|\n",
      "| IAH| 5438|\n",
      "| HNL|  533|\n",
      "| CVG| 2953|\n",
      "| SJC|  239|\n",
      "+----+-----+\n",
      "only showing top 20 rows\n",
      "\n",
      "+----+-----+---+--------+--------------+---------+--------+--------------+---------+-------+------+-------+------+----+--------+--------+----+------+-------------------+\n",
      "|year|month|day|dep_time|sched_dep_time|dep_delay|arr_time|sched_arr_time|arr_delay|carrier|flight|tailnum|origin|dest|air_time|distance|hour|minute|          time_hour|\n",
      "+----+-----+---+--------+--------------+---------+--------+--------------+---------+-------+------+-------+------+----+--------+--------+----+------+-------------------+\n",
      "|2021|    6|  2|    2015|          2001|       14|    2335|          2308|       27|     B6|  1505| N507JB|   JFK| ABQ|     252|    1826|  20|     1|2021-06-02 20:00:00|\n",
      "|2021|    6|  8|    2148|          2001|      107|       9|          2308|       61|     B6|  1505| N594JB|   JFK| ABQ|     241|    1826|  20|     1|2021-06-08 20:00:00|\n",
      "|2021|    6|  3|    1956|          2001|       -5|    2226|          2308|      -42|     B6|  1505| N627JB|   JFK| ABQ|     247|    1826|  20|     1|2021-06-03 20:00:00|\n",
      "|2021|    6|  4|    1957|          2001|       -4|    2212|          2308|      -56|     B6|  1505| N627JB|   JFK| ABQ|     233|    1826|  20|     1|2021-06-04 20:00:00|\n",
      "|2021|    6|  5|    1959|          2001|       -2|    2301|          2308|       -7|     B6|  1505| N587JB|   JFK| ABQ|     249|    1826|  20|     1|2021-06-05 20:00:00|\n",
      "|2021|    6|  6|    1957|          2001|       -4|    2314|          2308|        6|     B6|  1505| N558JB|   JFK| ABQ|     266|    1826|  20|     1|2021-06-06 20:00:00|\n",
      "|2021|    6|  7|    2022|          2001|       21|    2326|          2308|       18|     B6|  1505| N659JB|   JFK| ABQ|     243|    1826|  20|     1|2021-06-07 20:00:00|\n",
      "|2021|    6|  9|    2053|          2001|       52|    2329|          2308|       21|     B6|  1505| N529JB|   JFK| ABQ|     238|    1826|  20|     1|2021-06-09 20:00:00|\n",
      "|2021|    6| 10|    1959|          2001|       -2|    2320|          2308|       12|     B6|  1505| N806JB|   JFK| ABQ|     252|    1826|  20|     1|2021-06-10 20:00:00|\n",
      "|2021|    6| 11|    2046|          2001|       45|    2259|          2308|       -9|     B6|  1505| N519JB|   JFK| ABQ|     237|    1826|  20|     1|2021-06-11 20:00:00|\n",
      "|2021|    6| 12|    1953|          2001|       -8|    2225|          2308|      -43|     B6|  1505| N586JB|   JFK| ABQ|     237|    1826|  20|     1|2021-06-12 20:00:00|\n",
      "|2021|    6| 13|    2104|          2001|       63|      12|          2308|       64|     B6|  1505| N606JB|   JFK| ABQ|     236|    1826|  20|     1|2021-06-13 20:00:00|\n",
      "|2021|    6| 14|    2016|          2001|       15|    2244|          2308|      -24|     B6|  1505| N506JB|   JFK| ABQ|     239|    1826|  20|     1|2021-06-14 20:00:00|\n",
      "|2021|    6| 15|    1954|          2001|       -7|    2219|          2308|      -49|     B6|  1505| N793JB|   JFK| ABQ|     241|    1826|  20|     1|2021-06-15 20:00:00|\n",
      "|2021|    6| 16|    2001|          2001|        0|    2304|          2308|       -4|     B6|  1505| N590JB|   JFK| ABQ|     261|    1826|  20|     1|2021-06-16 20:00:00|\n",
      "|2021|    6| 17|    1959|          2001|       -2|    2321|          2308|       13|     B6|  1505| N703JB|   JFK| ABQ|     268|    1826|  20|     1|2021-06-17 20:00:00|\n",
      "|2021|    6| 18|    1958|          2001|       -3|    2238|          2308|      -30|     B6|  1505| N612JB|   JFK| ABQ|     254|    1826|  20|     1|2021-06-18 20:00:00|\n",
      "|2021|    6| 19|    2009|          2001|        8|    2227|          2308|      -41|     B6|  1505| N565JB|   JFK| ABQ|     238|    1826|  20|     1|2021-06-19 20:00:00|\n",
      "|2021|    6| 20|    2020|          2007|       13|    2257|          2259|       -2|     B6|  1505| N598JB|   JFK| ABQ|     232|    1826|  20|     7|2021-06-20 20:00:00|\n",
      "|2021|    6| 21|    2007|          2007|        0|    2229|          2259|      -30|     B6|  1505| N715JB|   JFK| ABQ|     231|    1826|  20|     7|2021-06-21 20:00:00|\n",
      "+----+-----+---+--------+--------------+---------+--------+--------------+---------+-------+------+-------+------+----+--------+--------+----+------+-------------------+\n",
      "only showing top 20 rows\n",
      "\n",
      "+----+-----+---+--------+--------------+---------+--------+--------------+---------+-------+------+-------+------+----+--------+--------+----+------+-------------------+\n",
      "|year|month|day|dep_time|sched_dep_time|dep_delay|arr_time|sched_arr_time|arr_delay|carrier|flight|tailnum|origin|dest|air_time|distance|hour|minute|          time_hour|\n",
      "+----+-----+---+--------+--------------+---------+--------+--------------+---------+-------+------+-------+------+----+--------+--------+----+------+-------------------+\n",
      "|2021|    6|  2|    1753|          1635|       78|    1944|          1814|       90|     EV|  3824| N16919|   EWR| GSO|      68|     445|  16|    35|2021-06-02 16:00:00|\n",
      "|2021|    6|  2|    1924|          1929|       -5|    2211|          2229|      -18|     AA|  2075| N521AA|   EWR| DFW|     193|    1372|  19|    29|2021-06-02 19:00:00|\n",
      "|2021|    6|  2|    1801|          1530|      151|    1940|          1650|      170|     WN|   216| N937WN|   EWR| MDW|     119|     711|  15|    30|2021-06-02 15:00:00|\n",
      "|2021|    6|  2|    1722|          1525|      117|    1810|          1635|       95|     EV|  4133| N11193|   EWR| PVD|      34|     160|  15|    25|2021-06-02 15:00:00|\n",
      "|2021|    6|  2|    1801|          1530|      151|    1949|          1710|      159|     EV|  4596| N15983|   EWR| STL|     134|     872|  15|    30|2021-06-02 15:00:00|\n",
      "|2021|    6|  2|    1724|          1729|       -5|    1938|          1935|        3|     EV|  4318| N11187|   EWR| CVG|      96|     569|  17|    29|2021-06-02 17:00:00|\n",
      "|2021|    6|  2|    1810|          1747|       23|    1936|          1900|       36|     EV|  3839| N14991|   EWR| DCA|      56|     199|  17|    47|2021-06-02 17:00:00|\n",
      "|2021|    6|  2|    1726|          1729|       -3|    2008|          2044|      -36|     AA|  1999| N3JPAA|   EWR| MIA|     139|    1085|  17|    29|2021-06-02 17:00:00|\n",
      "|2021|    6|  2|    1810|          1535|      155|    2015|          1737|      158|     EV|  4576| N14174|   EWR| GRR|      96|     605|  15|    35|2021-06-02 15:00:00|\n",
      "|2021|    6|  2|    1740|          1644|       56|    2047|          2020|       27|     UA|  1284| N16701|   EWR| SFO|     340|    2565|  16|    44|2021-06-02 16:00:00|\n",
      "|2021|    6|  2|    1816|          1659|       77|    2054|          1959|       55|     AA|  1905| N4YDAA|   EWR| DFW|     192|    1372|  16|    59|2021-06-02 16:00:00|\n",
      "|2021|    6|  2|    1744|          1710|       34|    2033|          1934|       59|     DL|  2042| N381DN|   EWR| ATL|     116|     746|  17|    10|2021-06-02 17:00:00|\n",
      "|2021|    6|  2|    1818|          1525|      173|    2038|          1724|      194|     EV|  4231| N16963|   EWR| CVG|      95|     569|  15|    25|2021-06-02 15:00:00|\n",
      "|2021|    6|  2|    1845|          1610|      155|    2048|          1825|      143|     EV|  4328| N14117|   EWR| MSY|     166|    1167|  16|    10|2021-06-02 16:00:00|\n",
      "|2021|    6|  2|    1847|          1456|      231|    2033|          1650|      223|     EV|  4326| N14977|   EWR| CLT|      84|     529|  14|    56|2021-06-02 14:00:00|\n",
      "|2021|    6|  2|    1706|          1705|        1|    1839|          1848|       -9|     UA|  1604| N33714|   EWR| ORD|     110|     719|  17|     5|2021-06-02 17:00:00|\n",
      "|2021|    6|  2|    1853|          1820|       33|    2042|          2003|       39|     UA|  1632| N33262|   EWR| ORD|     108|     719|  18|    20|2021-06-02 18:00:00|\n",
      "|2021|    6|  2|    1724|          1450|      154|    1859|          1642|      137|     EV|  4701| N13566|   EWR| CMH|      75|     463|  14|    50|2021-06-02 14:00:00|\n",
      "|2021|    6|  2|    1858|          1725|       93|    2135|          2015|       80|     UA|  1712| N11206|   EWR| IAH|     192|    1400|  17|    25|2021-06-02 17:00:00|\n",
      "|2021|    6|  2|    1741|          1529|      132|    1953|          1740|      133|     EV|  4404| N12563|   EWR| SDF|     105|     642|  15|    29|2021-06-02 15:00:00|\n",
      "+----+-----+---+--------+--------------+---------+--------+--------------+---------+-------+------+-------+------+----+--------+--------+----+------+-------------------+\n",
      "only showing top 20 rows\n",
      "\n",
      "+-------+--------------------+------+----+\n",
      "|carrier|                name|origin|dest|\n",
      "+-------+--------------------+------+----+\n",
      "|     FL|AirTran Airways C...|   LGA| CAK|\n",
      "|     FL|AirTran Airways C...|   LGA| ATL|\n",
      "|     FL|AirTran Airways C...|   LGA| ATL|\n",
      "|     FL|AirTran Airways C...|   LGA| ATL|\n",
      "|     FL|AirTran Airways C...|   LGA| ATL|\n",
      "|     FL|AirTran Airways C...|   LGA| ATL|\n",
      "|     FL|AirTran Airways C...|   LGA| CAK|\n",
      "|     FL|AirTran Airways C...|   LGA| ATL|\n",
      "|     FL|AirTran Airways C...|   LGA| CAK|\n",
      "|     FL|AirTran Airways C...|   LGA| ATL|\n",
      "|     FL|AirTran Airways C...|   LGA| ATL|\n",
      "|     FL|AirTran Airways C...|   LGA| ATL|\n",
      "|     FL|AirTran Airways C...|   LGA| ATL|\n",
      "|     FL|AirTran Airways C...|   LGA| ATL|\n",
      "|     FL|AirTran Airways C...|   LGA| ATL|\n",
      "|     FL|AirTran Airways C...|   LGA| ATL|\n",
      "|     FL|AirTran Airways C...|   LGA| ATL|\n",
      "|     FL|AirTran Airways C...|   LGA| CAK|\n",
      "|     FL|AirTran Airways C...|   LGA| CAK|\n",
      "|     FL|AirTran Airways C...|   LGA| CAK|\n",
      "+-------+--------------------+------+----+\n",
      "only showing top 20 rows\n",
      "\n"
     ]
    }
   ],
   "source": [
    "# nombre de vols par destination\n",
    "number_flights_per_destination = flights.groupBy('dest').count().show()\n",
    "number_flights_per_destination\n",
    "\n",
    "# trie selon la destination\n",
    "orderby_destination = flights.sort(flights.dest.asc()).show()\n",
    "\n",
    "# trie selon l'aéroport de départ\n",
    "orderby_origin_airport = flights.sort(flights.origin.asc()).show()\n",
    "\n",
    "# trie selon la compagnie\n",
    "flights_join_airlines = airlines.join(flights,airlines.carrier ==  flights.carrier,\"inner\")\n",
    "flights_join_airlines.sort(airlines.name.asc()).select(airlines.carrier,'name', 'origin', 'dest').show()                         "
   ]
  },
  {
   "cell_type": "markdown",
   "metadata": {
    "cell_id": "dfca6db593014360829ba548dc73d143",
    "deepnote_cell_type": "text-cell-p",
    "formattedRanges": [],
    "is_collapsed": false,
    "tags": []
   },
   "source": [
    "6.  Quelles sont les compagnies qui n'opèrent pas sur tous les aéroports d’origine ? Quelles sont les compagnies qui desservent l’ensemble de destinations ?\n",
    "Faire un tableau où l’on récupère l’ensemble des origines et des destinations pour l’ensemble des compagnies. "
   ]
  },
  {
   "cell_type": "code",
   "execution_count": 157,
   "metadata": {
    "cell_id": "c07a238c1d4d46ea8a5b099a0d90c938",
    "deepnote_cell_type": "code",
    "deepnote_table_loading": false,
    "deepnote_table_state": {
     "filters": [],
     "pageIndex": 0,
     "pageSize": 10,
     "sortBy": [
      {
       "id": "manufacturer",
       "type": "asc"
      }
     ]
    },
    "deepnote_to_be_reexecuted": false,
    "execution_millis": 97,
    "execution_start": 1671188219969,
    "source_hash": "3e317586",
    "tags": []
   },
   "outputs": [
    {
     "data": {
      "application/vnd.deepnote.dataframe.v3+json": {
       "column_count": 3,
       "columns": [
        {
         "dtype": "object",
         "name": "manufacturer"
        },
        {
         "dtype": "object",
         "name": "origin"
        },
        {
         "dtype": "object",
         "name": "dest"
        },
        {
         "dtype": "int64",
         "name": "_deepnote_index_column"
        }
       ],
       "row_count": 213027,
       "rows": [
        {
         "_deepnote_index_column": "194158",
         "dest": "SFO",
         "manufacturer": "AGUSTA SPA",
         "origin": "JFK"
        },
        {
         "_deepnote_index_column": "194168",
         "dest": "SFO",
         "manufacturer": "AGUSTA SPA",
         "origin": "JFK"
        },
        {
         "_deepnote_index_column": "194167",
         "dest": "MIA",
         "manufacturer": "AGUSTA SPA",
         "origin": "JFK"
        },
        {
         "_deepnote_index_column": "194166",
         "dest": "SFO",
         "manufacturer": "AGUSTA SPA",
         "origin": "JFK"
        },
        {
         "_deepnote_index_column": "194165",
         "dest": "MIA",
         "manufacturer": "AGUSTA SPA",
         "origin": "JFK"
        },
        {
         "_deepnote_index_column": "194164",
         "dest": "SFO",
         "manufacturer": "AGUSTA SPA",
         "origin": "JFK"
        },
        {
         "_deepnote_index_column": "194163",
         "dest": "MIA",
         "manufacturer": "AGUSTA SPA",
         "origin": "JFK"
        },
        {
         "_deepnote_index_column": "194162",
         "dest": "MIA",
         "manufacturer": "AGUSTA SPA",
         "origin": "JFK"
        },
        {
         "_deepnote_index_column": "194161",
         "dest": "MIA",
         "manufacturer": "AGUSTA SPA",
         "origin": "JFK"
        },
        {
         "_deepnote_index_column": "194160",
         "dest": "MIA",
         "manufacturer": "AGUSTA SPA",
         "origin": "JFK"
        }
       ]
      },
      "text/html": [
       "<div>\n",
       "<style scoped>\n",
       "    .dataframe tbody tr th:only-of-type {\n",
       "        vertical-align: middle;\n",
       "    }\n",
       "\n",
       "    .dataframe tbody tr th {\n",
       "        vertical-align: top;\n",
       "    }\n",
       "\n",
       "    .dataframe thead th {\n",
       "        text-align: right;\n",
       "    }\n",
       "</style>\n",
       "<table border=\"1\" class=\"dataframe\">\n",
       "  <thead>\n",
       "    <tr style=\"text-align: right;\">\n",
       "      <th></th>\n",
       "      <th>manufacturer</th>\n",
       "      <th>origin</th>\n",
       "      <th>dest</th>\n",
       "    </tr>\n",
       "  </thead>\n",
       "  <tbody>\n",
       "    <tr>\n",
       "      <th>0</th>\n",
       "      <td>BOEING</td>\n",
       "      <td>EWR</td>\n",
       "      <td>IAH</td>\n",
       "    </tr>\n",
       "    <tr>\n",
       "      <th>1</th>\n",
       "      <td>BOEING</td>\n",
       "      <td>EWR</td>\n",
       "      <td>MIA</td>\n",
       "    </tr>\n",
       "    <tr>\n",
       "      <th>2</th>\n",
       "      <td>BOEING</td>\n",
       "      <td>EWR</td>\n",
       "      <td>BOS</td>\n",
       "    </tr>\n",
       "    <tr>\n",
       "      <th>3</th>\n",
       "      <td>BOEING</td>\n",
       "      <td>EWR</td>\n",
       "      <td>TPA</td>\n",
       "    </tr>\n",
       "    <tr>\n",
       "      <th>4</th>\n",
       "      <td>BOEING</td>\n",
       "      <td>EWR</td>\n",
       "      <td>BOS</td>\n",
       "    </tr>\n",
       "    <tr>\n",
       "      <th>...</th>\n",
       "      <td>...</td>\n",
       "      <td>...</td>\n",
       "      <td>...</td>\n",
       "    </tr>\n",
       "    <tr>\n",
       "      <th>213022</th>\n",
       "      <td>AIRBUS INDUSTRIE</td>\n",
       "      <td>JFK</td>\n",
       "      <td>SAT</td>\n",
       "    </tr>\n",
       "    <tr>\n",
       "      <th>213023</th>\n",
       "      <td>AIRBUS INDUSTRIE</td>\n",
       "      <td>JFK</td>\n",
       "      <td>DTW</td>\n",
       "    </tr>\n",
       "    <tr>\n",
       "      <th>213024</th>\n",
       "      <td>AIRBUS INDUSTRIE</td>\n",
       "      <td>EWR</td>\n",
       "      <td>PHX</td>\n",
       "    </tr>\n",
       "    <tr>\n",
       "      <th>213025</th>\n",
       "      <td>BOEING</td>\n",
       "      <td>LGA</td>\n",
       "      <td>ATL</td>\n",
       "    </tr>\n",
       "    <tr>\n",
       "      <th>213026</th>\n",
       "      <td>AIRBUS</td>\n",
       "      <td>EWR</td>\n",
       "      <td>ATL</td>\n",
       "    </tr>\n",
       "  </tbody>\n",
       "</table>\n",
       "<p>213027 rows × 3 columns</p>\n",
       "</div>"
      ],
      "text/plain": [
       "            manufacturer origin dest\n",
       "0                 BOEING    EWR  IAH\n",
       "1                 BOEING    EWR  MIA\n",
       "2                 BOEING    EWR  BOS\n",
       "3                 BOEING    EWR  TPA\n",
       "4                 BOEING    EWR  BOS\n",
       "...                  ...    ...  ...\n",
       "213022  AIRBUS INDUSTRIE    JFK  SAT\n",
       "213023  AIRBUS INDUSTRIE    JFK  DTW\n",
       "213024  AIRBUS INDUSTRIE    EWR  PHX\n",
       "213025            BOEING    LGA  ATL\n",
       "213026            AIRBUS    EWR  ATL\n",
       "\n",
       "[213027 rows x 3 columns]"
      ]
     },
     "execution_count": 157,
     "metadata": {},
     "output_type": "execute_result"
    }
   ],
   "source": [
    "#filtre sur les colonnes demandees\n",
    "CompPerTrip = CompPerDest[[\"manufacturer\", \"origin\",\"dest\"]]\n",
    "CompPerTrip"
   ]
  },
  {
   "cell_type": "markdown",
   "metadata": {
    "cell_id": "ee222d7f812f4fd9a837ee96474e2fe5",
    "deepnote_cell_type": "text-cell-p",
    "formattedRanges": [],
    "is_collapsed": false,
    "tags": []
   },
   "source": [
    "7.Quelles sont les destinations qui sont exclusives à certaines compagnies ? "
   ]
  },
  {
   "cell_type": "code",
   "execution_count": 20,
   "metadata": {
    "cell_id": "07623b8e9470444c93969caf705f75fa",
    "deepnote_cell_type": "code",
    "deepnote_to_be_reexecuted": false,
    "execution_millis": 588,
    "execution_start": 1671182968316,
    "source_hash": "ea0178f9",
    "tags": []
   },
   "outputs": [
    {
     "name": "stdout",
     "output_type": "stream",
     "text": [
      "Les destinations qui sont exclusives à certaines compagnies sont : \n",
      "+-------+--------------------+----+--------------------+----------+\n",
      "|carrier|          compagnies|dest|        destinations|nombre_vol|\n",
      "+-------+--------------------+----+--------------------+----------+\n",
      "|     9E|   Endeavor Air Inc.| LEX|          Blue Grass|         1|\n",
      "|     9E|   Endeavor Air Inc.| BGR|         Bangor Intl|         1|\n",
      "|     9E|   Endeavor Air Inc.| BTV|     Burlington Intl|         1|\n",
      "|     DL|Delta Air Lines Inc.| BNA|      Nashville Intl|         1|\n",
      "|     DL|Delta Air Lines Inc.| STL|Lambert St Louis ...|         1|\n",
      "|     DL|Delta Air Lines Inc.| JAX|   Jacksonville Intl|         1|\n",
      "|     DL|Delta Air Lines Inc.| OMA|         Eppley Afld|         1|\n",
      "|     EV|ExpressJet Airlin...| TPA|          Tampa Intl|         1|\n",
      "|     OO|SkyWest Airlines ...| ORD|  Chicago Ohare Intl|         1|\n",
      "|     OO|SkyWest Airlines ...| IAD|Washington Dulles...|         1|\n",
      "|     UA|United Air Lines ...| DTW|Detroit Metro Way...|         1|\n",
      "|     UA|United Air Lines ...| STL|Lambert St Louis ...|         1|\n",
      "|     UA|United Air Lines ...| RDU| Raleigh Durham Intl|         1|\n",
      "|     UA|United Air Lines ...| CHS| Charleston Afb Intl|         1|\n",
      "|     VX|      Virgin America| SJC|Norman Y Mineta S...|         1|\n",
      "+-------+--------------------+----+--------------------+----------+\n",
      "\n"
     ]
    }
   ],
   "source": [
    "flight_join_7= flights.join(airlines, \"carrier\").withColumnRenamed('name', 'compagnies')\n",
    "flight_join_7= flight_join_7.join(airports, airports.faa ==  flight_join_7.dest,\"inner\")\\\n",
    "                .withColumnRenamed('name', 'destinations')\n",
    "flight_carrier = flight_join_7\\\n",
    "                .groupBy('carrier', 'compagnies', 'dest', 'destinations').agg({'dest': 'count'})\\\n",
    "                .withColumnRenamed('count(dest)', 'nombre_vol')\\\n",
    "                .orderBy(F.col('carrier').asc())\n",
    "\n",
    "list_flight = flight_carrier.filter(flight_carrier.nombre_vol == 1)\n",
    "print(\"Les destinations qui sont exclusives à certaines compagnies sont : \")\n",
    "list_flight.show()"
   ]
  },
  {
   "cell_type": "markdown",
   "metadata": {
    "cell_id": "d09846fe168e4458847d8e489f738824",
    "deepnote_cell_type": "text-cell-p",
    "formattedRanges": [],
    "is_collapsed": false,
    "tags": []
   },
   "source": [
    "8.Filtrer le vol pour trouver ceux exploités par United, American ou Delta ?"
   ]
  },
  {
   "cell_type": "code",
   "execution_count": 21,
   "metadata": {
    "cell_id": "37f0ceb832a64b3ab4c8898f3496320b",
    "deepnote_cell_type": "code",
    "deepnote_to_be_reexecuted": false,
    "execution_millis": 157,
    "execution_start": 1671182968905,
    "source_hash": "185403c8",
    "tags": []
   },
   "outputs": [
    {
     "name": "stdout",
     "output_type": "stream",
     "text": [
      "+----+-----+---+--------+--------------+---------+--------+--------------+---------+-------+------+-------+------+----+--------+--------+----+------+-------------------+\n",
      "|year|month|day|dep_time|sched_dep_time|dep_delay|arr_time|sched_arr_time|arr_delay|carrier|flight|tailnum|origin|dest|air_time|distance|hour|minute|          time_hour|\n",
      "+----+-----+---+--------+--------------+---------+--------+--------------+---------+-------+------+-------+------+----+--------+--------+----+------+-------------------+\n",
      "|2021|    1|  1|     554|           600|       -6|     812|           837|      -25|     DL|   461| N668DN|   LGA| ATL|     116|     762|   6|     0|2021-01-01 06:00:00|\n",
      "|2021|    1|  1|     602|           610|       -8|     812|           820|       -8|     DL|  1919| N971DL|   LGA| MSP|     170|    1020|   6|    10|2021-01-01 06:00:00|\n",
      "|2021|    1|  1|     606|           610|       -4|     837|           845|       -8|     DL|  1743| N3739P|   JFK| ATL|     128|     760|   6|    10|2021-01-01 06:00:00|\n",
      "|2021|    1|  1|     615|           615|        0|     833|           842|       -9|     DL|   575| N326NB|   EWR| ATL|     120|     746|   6|    15|2021-01-01 06:00:00|\n",
      "|2021|    1|  1|     653|           700|       -7|     936|          1009|      -33|     DL|  1383| N327NW|   LGA| PBI|     149|    1035|   7|     0|2021-01-01 07:00:00|\n",
      "|2021|    1|  1|     655|           655|        0|    1021|          1030|       -9|     DL|  1415| N3763D|   JFK| SLC|     294|    1990|   6|    55|2021-01-01 06:00:00|\n",
      "|2021|    1|  1|     655|           700|       -5|    1037|          1045|       -8|     DL|  1865| N705TW|   JFK| SFO|     362|    2586|   7|     0|2021-01-01 07:00:00|\n",
      "|2021|    1|  1|     655|           700|       -5|    1002|          1020|      -18|     DL|  2003| N997DL|   LGA| MIA|     161|    1096|   7|     0|2021-01-01 07:00:00|\n",
      "|2021|    1|  1|     657|           700|       -3|     959|          1013|      -14|     DL|  1879| N318NB|   LGA| FLL|     164|    1076|   7|     0|2021-01-01 07:00:00|\n",
      "|2021|    1|  1|     658|           700|       -2|     944|           939|        5|     DL|  1547| N6703D|   LGA| ATL|     126|     762|   7|     0|2021-01-01 07:00:00|\n",
      "|2021|    1|  1|     659|           705|       -6|     907|           913|       -6|     DL|   831| N998DL|   LGA| DTW|     105|     502|   7|     5|2021-01-01 07:00:00|\n",
      "|2021|    1|  1|     743|           730|       13|    1059|          1056|        3|     DL|   495| N3760C|   JFK| SEA|     349|    2422|   7|    30|2021-01-01 07:00:00|\n",
      "|2021|    1|  1|     752|           755|       -3|    1041|          1059|      -18|     DL|  2263| N325US|   LGA| MCO|     140|     950|   7|    55|2021-01-01 07:00:00|\n",
      "|2021|    1|  1|     754|           759|       -5|    1039|          1041|       -2|     DL|  2047| N935DL|   LGA| ATL|     126|     762|   7|    59|2021-01-01 07:00:00|\n",
      "|2021|    1|  1|     759|           800|       -1|    1057|          1127|      -30|     DL|  1843| N955DL|   JFK| MIA|     158|    1089|   8|     0|2021-01-01 08:00:00|\n",
      "|2021|    1|  1|     800|           800|        0|    1022|          1014|        8|     DL|  2119| N317US|   LGA| MSP|     171|    1020|   8|     0|2021-01-01 08:00:00|\n",
      "|2021|    1|  1|     804|           810|       -6|    1103|          1116|      -13|     DL|  1959| N947DL|   JFK| MCO|     147|     944|   8|    10|2021-01-01 08:00:00|\n",
      "|2021|    1|  1|     807|           810|       -3|    1043|          1043|        0|     DL|   269| N308DE|   JFK| ATL|     126|     760|   8|    10|2021-01-01 08:00:00|\n",
      "|2021|    1|  1|     810|           815|       -5|    1100|          1128|      -28|     DL|  2395| N349NW|   LGA| PBI|     149|    1035|   8|    15|2021-01-01 08:00:00|\n",
      "|2021|    1|  1|     813|           815|       -2|    1103|          1056|        7|     DL|   914| N375NC|   LGA| DEN|     267|    1620|   8|    15|2021-01-01 08:00:00|\n",
      "+----+-----+---+--------+--------------+---------+--------+--------------+---------+-------+------+-------+------+----+--------+--------+----+------+-------------------+\n",
      "only showing top 20 rows\n",
      "\n",
      "+----+-----+---+--------+--------------+---------+--------+--------------+---------+-------+------+-------+------+----+--------+--------+----+------+-------------------+\n",
      "|year|month|day|dep_time|sched_dep_time|dep_delay|arr_time|sched_arr_time|arr_delay|carrier|flight|tailnum|origin|dest|air_time|distance|hour|minute|          time_hour|\n",
      "+----+-----+---+--------+--------------+---------+--------+--------------+---------+-------+------+-------+------+----+--------+--------+----+------+-------------------+\n",
      "|2021|    1|  1|     517|           515|        2|     830|           819|       11|     UA|  1545| N14228|   EWR| IAH|     227|    1400|   5|    15|2021-01-01 05:00:00|\n",
      "|2021|    1|  1|     533|           529|        4|     850|           830|       20|     UA|  1714| N24211|   LGA| IAH|     227|    1416|   5|    29|2021-01-01 05:00:00|\n",
      "|2021|    1|  1|     554|           558|       -4|     740|           728|       12|     UA|  1696| N39463|   EWR| ORD|     150|     719|   5|    58|2021-01-01 05:00:00|\n",
      "|2021|    1|  1|     558|           600|       -2|     924|           917|        7|     UA|   194| N29129|   JFK| LAX|     345|    2475|   6|     0|2021-01-01 06:00:00|\n",
      "|2021|    1|  1|     558|           600|       -2|     923|           937|      -14|     UA|  1124| N53441|   EWR| SFO|     361|    2565|   6|     0|2021-01-01 06:00:00|\n",
      "|2021|    1|  1|     559|           600|       -1|     854|           902|       -8|     UA|  1187| N76515|   EWR| LAS|     337|    2227|   6|     0|2021-01-01 06:00:00|\n",
      "|2021|    1|  1|     607|           607|        0|     858|           915|      -17|     UA|  1077| N53442|   EWR| MIA|     157|    1085|   6|     7|2021-01-01 06:00:00|\n",
      "|2021|    1|  1|     611|           600|       11|     945|           931|       14|     UA|   303| N532UA|   JFK| SFO|     366|    2586|   6|     0|2021-01-01 06:00:00|\n",
      "|2021|    1|  1|     623|           627|       -4|     933|           932|        1|     UA|   496| N459UA|   LGA| IAH|     229|    1416|   6|    27|2021-01-01 06:00:00|\n",
      "|2021|    1|  1|     628|           630|       -2|    1016|           947|       29|     UA|  1665| N33289|   EWR| LAX|     366|    2454|   6|    30|2021-01-01 06:00:00|\n",
      "|2021|    1|  1|     643|           646|       -3|     922|           940|      -18|     UA|   556| N497UA|   EWR| PBI|     146|    1023|   6|    46|2021-01-01 06:00:00|\n",
      "|2021|    1|  1|     644|           636|        8|     931|           940|       -9|     UA|  1701| N75435|   EWR| FLL|     151|    1065|   6|    36|2021-01-01 06:00:00|\n",
      "|2021|    1|  1|     646|           645|        1|     910|           916|       -6|     UA|   883| N569UA|   LGA| DEN|     243|    1620|   6|    45|2021-01-01 06:00:00|\n",
      "|2021|    1|  1|     646|           645|        1|    1023|          1030|       -7|     UA|  1496| N38727|   EWR| SNA|     380|    2434|   6|    45|2021-01-01 06:00:00|\n",
      "|2021|    1|  1|     656|           700|       -4|     948|          1011|      -23|     UA|  1115| N24212|   EWR| TPA|     156|     997|   7|     0|2021-01-01 07:00:00|\n",
      "|2021|    1|  1|     659|           700|       -1|     959|          1008|       -9|     UA|   960| N838UA|   EWR| RSW|     164|    1068|   7|     0|2021-01-01 07:00:00|\n",
      "|2021|    1|  1|     701|           700|        1|    1123|          1154|      -31|     UA|  1203| N77296|   EWR| SJU|     188|    1608|   7|     0|2021-01-01 07:00:00|\n",
      "|2021|    1|  1|     709|           700|        9|     852|           832|       20|     UA|  1092| N26226|   LGA| ORD|     135|     733|   7|     0|2021-01-01 07:00:00|\n",
      "|2021|    1|  1|     715|           713|        2|     911|           850|       21|     UA|   544| N841UA|   EWR| ORD|     156|     719|   7|    13|2021-01-01 07:00:00|\n",
      "|2021|    1|  1|     723|           725|       -2|    1013|          1017|       -4|     UA|   962| N514UA|   EWR| PBI|     153|    1023|   7|    25|2021-01-01 07:00:00|\n",
      "+----+-----+---+--------+--------------+---------+--------+--------------+---------+-------+------+-------+------+----+--------+--------+----+------+-------------------+\n",
      "only showing top 20 rows\n",
      "\n",
      "+----+-----+---+--------+--------------+---------+--------+--------------+---------+-------+------+-------+------+----+--------+--------+----+------+-------------------+\n",
      "|year|month|day|dep_time|sched_dep_time|dep_delay|arr_time|sched_arr_time|arr_delay|carrier|flight|tailnum|origin|dest|air_time|distance|hour|minute|          time_hour|\n",
      "+----+-----+---+--------+--------------+---------+--------+--------------+---------+-------+------+-------+------+----+--------+--------+----+------+-------------------+\n",
      "|2021|    1|  1|     542|           540|        2|     923|           850|       33|     AA|  1141| N619AA|   JFK| MIA|     160|    1089|   5|    40|2021-01-01 05:00:00|\n",
      "|2021|    1|  1|     558|           600|       -2|     753|           745|        8|     AA|   301| N3ALAA|   LGA| ORD|     138|     733|   6|     0|2021-01-01 06:00:00|\n",
      "|2021|    1|  1|     559|           600|       -1|     941|           910|       31|     AA|   707| N3DUAA|   LGA| DFW|     257|    1389|   6|     0|2021-01-01 06:00:00|\n",
      "|2021|    1|  1|     606|           610|       -4|     858|           910|      -12|     AA|  1895| N633AA|   EWR| MIA|     152|    1085|   6|    10|2021-01-01 06:00:00|\n",
      "|2021|    1|  1|     623|           610|       13|     920|           915|        5|     AA|  1837| N3EMAA|   LGA| MIA|     153|    1096|   6|    10|2021-01-01 06:00:00|\n",
      "|2021|    1|  1|     628|           630|       -2|    1137|          1140|       -3|     AA|   413| N3BAAA|   JFK| SJU|     192|    1598|   6|    30|2021-01-01 06:00:00|\n",
      "|2021|    1|  1|     629|           630|       -1|     824|           810|       14|     AA|   303| N3CYAA|   LGA| ORD|     140|     733|   6|    30|2021-01-01 06:00:00|\n",
      "|2021|    1|  1|     635|           635|        0|    1028|           940|       48|     AA|   711| N3GKAA|   LGA| DFW|     248|    1389|   6|    35|2021-01-01 06:00:00|\n",
      "|2021|    1|  1|     656|           700|       -4|     854|           850|        4|     AA|   305| N4WNAA|   LGA| ORD|     143|     733|   7|     0|2021-01-01 07:00:00|\n",
      "|2021|    1|  1|     656|           659|       -3|     949|           959|      -10|     AA|  1815| N5FMAA|   JFK| MCO|     142|     944|   6|    59|2021-01-01 06:00:00|\n",
      "|2021|    1|  1|     659|           700|       -1|    1008|          1015|       -7|     AA|  2279| N3EKAA|   LGA| MIA|     159|    1096|   7|     0|2021-01-01 07:00:00|\n",
      "|2021|    1|  1|     712|           715|       -3|    1023|          1035|      -12|     AA|   825| N3ETAA|   JFK| FLL|     159|    1069|   7|    15|2021-01-01 07:00:00|\n",
      "|2021|    1|  1|     724|           730|       -6|    1111|          1040|       31|     AA|   715| N541AA|   LGA| DFW|     254|    1389|   7|    30|2021-01-01 07:00:00|\n",
      "|2021|    1|  1|     725|           730|       -5|    1052|          1040|       12|     AA|  2083| N4WRAA|   EWR| DFW|     238|    1372|   7|    30|2021-01-01 07:00:00|\n",
      "|2021|    1|  1|     739|           745|       -6|     918|           930|      -12|     AA|   309| N4WPAA|   LGA| ORD|     137|     733|   7|    45|2021-01-01 07:00:00|\n",
      "|2021|    1|  1|     743|           730|       13|    1107|          1100|        7|     AA|    33| N338AA|   JFK| LAX|     358|    2475|   7|    30|2021-01-01 07:00:00|\n",
      "|2021|    1|  1|     745|           745|        0|    1135|          1125|       10|     AA|    59| N336AA|   JFK| SFO|     378|    2586|   7|    45|2021-01-01 07:00:00|\n",
      "|2021|    1|  1|     753|           755|       -2|    1056|          1110|      -14|     AA|  2267| N3HMAA|   LGA| MIA|     157|    1096|   7|    55|2021-01-01 07:00:00|\n",
      "|2021|    1|  1|     803|           810|       -7|     903|           925|      -22|     AA|  1838| N3GEAA|   JFK| BOS|      38|     187|   8|    10|2021-01-01 08:00:00|\n",
      "|2021|    1|  1|     824|           830|       -6|    1027|          1025|        2|     AA|  1855| N573AA|   LGA| STL|     169|     888|   8|    30|2021-01-01 08:00:00|\n",
      "+----+-----+---+--------+--------------+---------+--------+--------------+---------+-------+------+-------+------+----+--------+--------+----+------+-------------------+\n",
      "only showing top 20 rows\n",
      "\n"
     ]
    }
   ],
   "source": [
    "deltaFlights = flights.filter(\"carrier == 'DL'\").show()\n",
    "unitedFlights = flights.filter(\"carrier == 'UA'\").show()\n",
    "americaFlights = flights.filter(\"carrier == 'AA'\").show()\n"
   ]
  },
  {
   "cell_type": "code",
   "execution_count": null,
   "metadata": {
    "cell_id": "b8feaa61a1394895a787395388f14d0e",
    "deepnote_cell_type": "code",
    "deepnote_to_be_reexecuted": false,
    "execution_millis": 478,
    "execution_start": 1671184862136,
    "source_hash": "97b8c151",
    "tags": []
   },
   "outputs": [
    {
     "data": {
      "text/html": [
       "<html>\n",
       "<head><meta charset=\"utf-8\" /></head>\n",
       "<body>\n",
       "    <div>            <script src=\"https://cdnjs.cloudflare.com/ajax/libs/mathjax/2.7.5/MathJax.js?config=TeX-AMS-MML_SVG\"></script><script type=\"text/javascript\">if (window.MathJax && window.MathJax.Hub && window.MathJax.Hub.Config) {window.MathJax.Hub.Config({SVG: {font: \"STIX-Web\"}});}</script>                <script type=\"text/javascript\">window.PlotlyConfig = {MathJaxConfig: 'local'};</script>\n",
       "        <script src=\"https://cdn.plot.ly/plotly-2.14.0.min.js\"></script>                <div id=\"3d101130-1e59-4c16-9dd4-fa529c5ef199\" class=\"plotly-graph-div\" style=\"height:525px; width:100%;\"></div>            <script type=\"text/javascript\">                                    window.PLOTLYENV=window.PLOTLYENV || {};                                    if (document.getElementById(\"3d101130-1e59-4c16-9dd4-fa529c5ef199\")) {                    Plotly.newPlot(                        \"3d101130-1e59-4c16-9dd4-fa529c5ef199\",                        [{\"hovertemplate\":\"seasons=Hiver<br>hour=%{x}<br>avg_dep_delay=%{y}<extra></extra>\",\"legendgroup\":\"Hiver\",\"line\":{\"color\":\"#636efa\",\"dash\":\"solid\"},\"marker\":{\"symbol\":\"circle\"},\"mode\":\"lines\",\"name\":\"Hiver\",\"orientation\":\"v\",\"showlegend\":true,\"x\":[5,6,7,8,9,10,11,12,13,14,15,16,17,18,19,20,21,22,23],\"xaxis\":\"x\",\"y\":[2.8442622950819674,3.2034471105103077,3.6990181268882174,7.53470715835141,7.761380478509422,7.809447558046437,7.934306569343065,10.42791596232794,12.8814765399155,13.489864158829675,15.471795820233032,17.106895940436093,17.86677454153182,18.278292777134027,21.971605465414175,21.699811878527278,20.41288492706645,19.025974025974026,7.825581395348837],\"yaxis\":\"y\",\"type\":\"scatter\"},{\"hovertemplate\":\"seasons=Automne<br>hour=%{x}<br>avg_dep_delay=%{y}<extra></extra>\",\"legendgroup\":\"Automne\",\"line\":{\"color\":\"#EF553B\",\"dash\":\"solid\"},\"marker\":{\"symbol\":\"circle\"},\"mode\":\"lines\",\"name\":\"Automne\",\"orientation\":\"v\",\"showlegend\":true,\"x\":[5,6,7,8,9,10,11,12,13,14,15,16,17,18,19,20,21,22,23],\"xaxis\":\"x\",\"y\":[-0.9827586206896551,-1.0461349693251534,-0.3046081749544389,1.3299937382592362,0.5666666666666667,1.614586818333891,3.3327003418154195,4.101261620185923,4.515089959373186,6.768352365415987,8.986631716906945,9.681887755102041,11.937171398527866,10.769887145609689,13.334886429819452,12.167567567567568,11.557603686635945,1.970976253298153,-1.5912408759124088],\"yaxis\":\"y\",\"type\":\"scatter\"},{\"hovertemplate\":\"seasons=Printemps<br>hour=%{x}<br>avg_dep_delay=%{y}<extra></extra>\",\"legendgroup\":\"Printemps\",\"line\":{\"color\":\"#00cc96\",\"dash\":\"solid\"},\"marker\":{\"symbol\":\"circle\"},\"mode\":\"lines\",\"name\":\"Printemps\",\"orientation\":\"v\",\"showlegend\":true,\"x\":[5,6,7,8,9,10,11,12,13,14,15,16,17,18,19,20,21,22,23],\"xaxis\":\"x\",\"y\":[-0.12958963282937366,1.3787053841500303,1.871931696905016,3.865019305019305,4.7017673048600885,7.439642324888227,9.32669523569448,9.089925625422582,12.148568019093078,14.976519598560879,17.676844783715012,19.38803328022659,22.490006553079947,20.433608815426997,25.992733073378236,26.11509751986516,26.612748710390566,19.537634408602152,8.415441176470589],\"yaxis\":\"y\",\"type\":\"scatter\"},{\"hovertemplate\":\"seasons=\\u00c9t\\u00e9<br>hour=%{x}<br>avg_dep_delay=%{y}<extra></extra>\",\"legendgroup\":\"\\u00c9t\\u00e9\",\"line\":{\"color\":\"#ab63fa\",\"dash\":\"solid\"},\"marker\":{\"symbol\":\"circle\"},\"mode\":\"lines\",\"name\":\"\\u00c9t\\u00e9\",\"orientation\":\"v\",\"showlegend\":true,\"x\":[5,6,7,8,9,10,11,12,13,14,15,16,17,18,19,20,21,22,23],\"xaxis\":\"x\",\"y\":[0.1518324607329843,3.4042467948717947,2.311036789297659,5.078178694158075,6.533443891652847,10.623931623931623,11.175388967468175,14.55952380952381,17.443519619500595,21.128086419753085,29.06763738844528,33.17691415313225,37.215462031107045,44.17258328782086,43.63882743362832,43.67739628040057,46.88674971687429,33.16393442622951,25.850467289719628],\"yaxis\":\"y\",\"type\":\"scatter\"}],                        {\"template\":{\"data\":{\"histogram2dcontour\":[{\"type\":\"histogram2dcontour\",\"colorbar\":{\"outlinewidth\":0,\"ticks\":\"\"},\"colorscale\":[[0.0,\"#0d0887\"],[0.1111111111111111,\"#46039f\"],[0.2222222222222222,\"#7201a8\"],[0.3333333333333333,\"#9c179e\"],[0.4444444444444444,\"#bd3786\"],[0.5555555555555556,\"#d8576b\"],[0.6666666666666666,\"#ed7953\"],[0.7777777777777778,\"#fb9f3a\"],[0.8888888888888888,\"#fdca26\"],[1.0,\"#f0f921\"]]}],\"choropleth\":[{\"type\":\"choropleth\",\"colorbar\":{\"outlinewidth\":0,\"ticks\":\"\"}}],\"histogram2d\":[{\"type\":\"histogram2d\",\"colorbar\":{\"outlinewidth\":0,\"ticks\":\"\"},\"colorscale\":[[0.0,\"#0d0887\"],[0.1111111111111111,\"#46039f\"],[0.2222222222222222,\"#7201a8\"],[0.3333333333333333,\"#9c179e\"],[0.4444444444444444,\"#bd3786\"],[0.5555555555555556,\"#d8576b\"],[0.6666666666666666,\"#ed7953\"],[0.7777777777777778,\"#fb9f3a\"],[0.8888888888888888,\"#fdca26\"],[1.0,\"#f0f921\"]]}],\"heatmap\":[{\"type\":\"heatmap\",\"colorbar\":{\"outlinewidth\":0,\"ticks\":\"\"},\"colorscale\":[[0.0,\"#0d0887\"],[0.1111111111111111,\"#46039f\"],[0.2222222222222222,\"#7201a8\"],[0.3333333333333333,\"#9c179e\"],[0.4444444444444444,\"#bd3786\"],[0.5555555555555556,\"#d8576b\"],[0.6666666666666666,\"#ed7953\"],[0.7777777777777778,\"#fb9f3a\"],[0.8888888888888888,\"#fdca26\"],[1.0,\"#f0f921\"]]}],\"heatmapgl\":[{\"type\":\"heatmapgl\",\"colorbar\":{\"outlinewidth\":0,\"ticks\":\"\"},\"colorscale\":[[0.0,\"#0d0887\"],[0.1111111111111111,\"#46039f\"],[0.2222222222222222,\"#7201a8\"],[0.3333333333333333,\"#9c179e\"],[0.4444444444444444,\"#bd3786\"],[0.5555555555555556,\"#d8576b\"],[0.6666666666666666,\"#ed7953\"],[0.7777777777777778,\"#fb9f3a\"],[0.8888888888888888,\"#fdca26\"],[1.0,\"#f0f921\"]]}],\"contourcarpet\":[{\"type\":\"contourcarpet\",\"colorbar\":{\"outlinewidth\":0,\"ticks\":\"\"}}],\"contour\":[{\"type\":\"contour\",\"colorbar\":{\"outlinewidth\":0,\"ticks\":\"\"},\"colorscale\":[[0.0,\"#0d0887\"],[0.1111111111111111,\"#46039f\"],[0.2222222222222222,\"#7201a8\"],[0.3333333333333333,\"#9c179e\"],[0.4444444444444444,\"#bd3786\"],[0.5555555555555556,\"#d8576b\"],[0.6666666666666666,\"#ed7953\"],[0.7777777777777778,\"#fb9f3a\"],[0.8888888888888888,\"#fdca26\"],[1.0,\"#f0f921\"]]}],\"surface\":[{\"type\":\"surface\",\"colorbar\":{\"outlinewidth\":0,\"ticks\":\"\"},\"colorscale\":[[0.0,\"#0d0887\"],[0.1111111111111111,\"#46039f\"],[0.2222222222222222,\"#7201a8\"],[0.3333333333333333,\"#9c179e\"],[0.4444444444444444,\"#bd3786\"],[0.5555555555555556,\"#d8576b\"],[0.6666666666666666,\"#ed7953\"],[0.7777777777777778,\"#fb9f3a\"],[0.8888888888888888,\"#fdca26\"],[1.0,\"#f0f921\"]]}],\"mesh3d\":[{\"type\":\"mesh3d\",\"colorbar\":{\"outlinewidth\":0,\"ticks\":\"\"}}],\"scatter\":[{\"fillpattern\":{\"fillmode\":\"overlay\",\"size\":10,\"solidity\":0.2},\"type\":\"scatter\"}],\"parcoords\":[{\"type\":\"parcoords\",\"line\":{\"colorbar\":{\"outlinewidth\":0,\"ticks\":\"\"}}}],\"scatterpolargl\":[{\"type\":\"scatterpolargl\",\"marker\":{\"colorbar\":{\"outlinewidth\":0,\"ticks\":\"\"}}}],\"bar\":[{\"error_x\":{\"color\":\"#2a3f5f\"},\"error_y\":{\"color\":\"#2a3f5f\"},\"marker\":{\"line\":{\"color\":\"#E5ECF6\",\"width\":0.5},\"pattern\":{\"fillmode\":\"overlay\",\"size\":10,\"solidity\":0.2}},\"type\":\"bar\"}],\"scattergeo\":[{\"type\":\"scattergeo\",\"marker\":{\"colorbar\":{\"outlinewidth\":0,\"ticks\":\"\"}}}],\"scatterpolar\":[{\"type\":\"scatterpolar\",\"marker\":{\"colorbar\":{\"outlinewidth\":0,\"ticks\":\"\"}}}],\"histogram\":[{\"marker\":{\"pattern\":{\"fillmode\":\"overlay\",\"size\":10,\"solidity\":0.2}},\"type\":\"histogram\"}],\"scattergl\":[{\"type\":\"scattergl\",\"marker\":{\"colorbar\":{\"outlinewidth\":0,\"ticks\":\"\"}}}],\"scatter3d\":[{\"type\":\"scatter3d\",\"line\":{\"colorbar\":{\"outlinewidth\":0,\"ticks\":\"\"}},\"marker\":{\"colorbar\":{\"outlinewidth\":0,\"ticks\":\"\"}}}],\"scattermapbox\":[{\"type\":\"scattermapbox\",\"marker\":{\"colorbar\":{\"outlinewidth\":0,\"ticks\":\"\"}}}],\"scatterternary\":[{\"type\":\"scatterternary\",\"marker\":{\"colorbar\":{\"outlinewidth\":0,\"ticks\":\"\"}}}],\"scattercarpet\":[{\"type\":\"scattercarpet\",\"marker\":{\"colorbar\":{\"outlinewidth\":0,\"ticks\":\"\"}}}],\"carpet\":[{\"aaxis\":{\"endlinecolor\":\"#2a3f5f\",\"gridcolor\":\"white\",\"linecolor\":\"white\",\"minorgridcolor\":\"white\",\"startlinecolor\":\"#2a3f5f\"},\"baxis\":{\"endlinecolor\":\"#2a3f5f\",\"gridcolor\":\"white\",\"linecolor\":\"white\",\"minorgridcolor\":\"white\",\"startlinecolor\":\"#2a3f5f\"},\"type\":\"carpet\"}],\"table\":[{\"cells\":{\"fill\":{\"color\":\"#EBF0F8\"},\"line\":{\"color\":\"white\"}},\"header\":{\"fill\":{\"color\":\"#C8D4E3\"},\"line\":{\"color\":\"white\"}},\"type\":\"table\"}],\"barpolar\":[{\"marker\":{\"line\":{\"color\":\"#E5ECF6\",\"width\":0.5},\"pattern\":{\"fillmode\":\"overlay\",\"size\":10,\"solidity\":0.2}},\"type\":\"barpolar\"}],\"pie\":[{\"automargin\":true,\"type\":\"pie\"}]},\"layout\":{\"autotypenumbers\":\"strict\",\"colorway\":[\"#636efa\",\"#EF553B\",\"#00cc96\",\"#ab63fa\",\"#FFA15A\",\"#19d3f3\",\"#FF6692\",\"#B6E880\",\"#FF97FF\",\"#FECB52\"],\"font\":{\"color\":\"#2a3f5f\"},\"hovermode\":\"closest\",\"hoverlabel\":{\"align\":\"left\"},\"paper_bgcolor\":\"white\",\"plot_bgcolor\":\"#E5ECF6\",\"polar\":{\"bgcolor\":\"#E5ECF6\",\"angularaxis\":{\"gridcolor\":\"white\",\"linecolor\":\"white\",\"ticks\":\"\"},\"radialaxis\":{\"gridcolor\":\"white\",\"linecolor\":\"white\",\"ticks\":\"\"}},\"ternary\":{\"bgcolor\":\"#E5ECF6\",\"aaxis\":{\"gridcolor\":\"white\",\"linecolor\":\"white\",\"ticks\":\"\"},\"baxis\":{\"gridcolor\":\"white\",\"linecolor\":\"white\",\"ticks\":\"\"},\"caxis\":{\"gridcolor\":\"white\",\"linecolor\":\"white\",\"ticks\":\"\"}},\"coloraxis\":{\"colorbar\":{\"outlinewidth\":0,\"ticks\":\"\"}},\"colorscale\":{\"sequential\":[[0.0,\"#0d0887\"],[0.1111111111111111,\"#46039f\"],[0.2222222222222222,\"#7201a8\"],[0.3333333333333333,\"#9c179e\"],[0.4444444444444444,\"#bd3786\"],[0.5555555555555556,\"#d8576b\"],[0.6666666666666666,\"#ed7953\"],[0.7777777777777778,\"#fb9f3a\"],[0.8888888888888888,\"#fdca26\"],[1.0,\"#f0f921\"]],\"sequentialminus\":[[0.0,\"#0d0887\"],[0.1111111111111111,\"#46039f\"],[0.2222222222222222,\"#7201a8\"],[0.3333333333333333,\"#9c179e\"],[0.4444444444444444,\"#bd3786\"],[0.5555555555555556,\"#d8576b\"],[0.6666666666666666,\"#ed7953\"],[0.7777777777777778,\"#fb9f3a\"],[0.8888888888888888,\"#fdca26\"],[1.0,\"#f0f921\"]],\"diverging\":[[0,\"#8e0152\"],[0.1,\"#c51b7d\"],[0.2,\"#de77ae\"],[0.3,\"#f1b6da\"],[0.4,\"#fde0ef\"],[0.5,\"#f7f7f7\"],[0.6,\"#e6f5d0\"],[0.7,\"#b8e186\"],[0.8,\"#7fbc41\"],[0.9,\"#4d9221\"],[1,\"#276419\"]]},\"xaxis\":{\"gridcolor\":\"white\",\"linecolor\":\"white\",\"ticks\":\"\",\"title\":{\"standoff\":15},\"zerolinecolor\":\"white\",\"automargin\":true,\"zerolinewidth\":2},\"yaxis\":{\"gridcolor\":\"white\",\"linecolor\":\"white\",\"ticks\":\"\",\"title\":{\"standoff\":15},\"zerolinecolor\":\"white\",\"automargin\":true,\"zerolinewidth\":2},\"scene\":{\"xaxis\":{\"backgroundcolor\":\"#E5ECF6\",\"gridcolor\":\"white\",\"linecolor\":\"white\",\"showbackground\":true,\"ticks\":\"\",\"zerolinecolor\":\"white\",\"gridwidth\":2},\"yaxis\":{\"backgroundcolor\":\"#E5ECF6\",\"gridcolor\":\"white\",\"linecolor\":\"white\",\"showbackground\":true,\"ticks\":\"\",\"zerolinecolor\":\"white\",\"gridwidth\":2},\"zaxis\":{\"backgroundcolor\":\"#E5ECF6\",\"gridcolor\":\"white\",\"linecolor\":\"white\",\"showbackground\":true,\"ticks\":\"\",\"zerolinecolor\":\"white\",\"gridwidth\":2}},\"shapedefaults\":{\"line\":{\"color\":\"#2a3f5f\"}},\"annotationdefaults\":{\"arrowcolor\":\"#2a3f5f\",\"arrowhead\":0,\"arrowwidth\":1},\"geo\":{\"bgcolor\":\"white\",\"landcolor\":\"#E5ECF6\",\"subunitcolor\":\"white\",\"showland\":true,\"showlakes\":true,\"lakecolor\":\"white\"},\"title\":{\"x\":0.05},\"mapbox\":{\"style\":\"light\"}}},\"xaxis\":{\"anchor\":\"y\",\"domain\":[0.0,1.0],\"title\":{\"text\":\"hour\"}},\"yaxis\":{\"anchor\":\"x\",\"domain\":[0.0,1.0],\"title\":{\"text\":\"avg_dep_delay\"}},\"legend\":{\"title\":{\"text\":\"seasons\"},\"tracegroupgap\":0},\"title\":{\"text\":\"Temps moyen des retards par saisons\"}},                        {\"responsive\": true}                    ).then(function(){\n",
       "                            \n",
       "var gd = document.getElementById('3d101130-1e59-4c16-9dd4-fa529c5ef199');\n",
       "var x = new MutationObserver(function (mutations, observer) {{\n",
       "        var display = window.getComputedStyle(gd).display;\n",
       "        if (!display || display === 'none') {{\n",
       "            console.log([gd, 'removed!']);\n",
       "            Plotly.purge(gd);\n",
       "            observer.disconnect();\n",
       "        }}\n",
       "}});\n",
       "\n",
       "// Listen for the removal of the full notebook cells\n",
       "var notebookContainer = gd.closest('#notebook-container');\n",
       "if (notebookContainer) {{\n",
       "    x.observe(notebookContainer, {childList: true});\n",
       "}}\n",
       "\n",
       "// Listen for the clearing of the current output cell\n",
       "var outputEl = gd.closest('.output');\n",
       "if (outputEl) {{\n",
       "    x.observe(outputEl, {childList: true});\n",
       "}}\n",
       "\n",
       "                        })                };                            </script>        </div>\n",
       "</body>\n",
       "</html>"
      ]
     },
     "metadata": {},
     "output_type": "display_data"
    }
   ],
   "source": [
    "# Ajout des saisons dans le DF Flights\n",
    "@F.udf(returnType = StringType())\n",
    "def setSeasons(month):\n",
    "    if month >= 9 and month <= 11:\n",
    "        return 'Automne'\n",
    "    if  month >= 6 and month <= 8 :\n",
    "        return 'Été'\n",
    "    if month >= 3 and month <= 5 :\n",
    "        return 'Printemps'\n",
    "    return 'Hiver'\n",
    "\n",
    "# Traitement et transformation du df spark vers df pandas pour utiliser plotly\n",
    "avgDelaySeason = flights.groupBy(\"hour\",\"seasons\").agg({\"dep_delay\":\"mean\"}).withColumnRenamed('avg(dep_delay)','avg_dep_delay').orderBy(F.col('hour').asc())\n",
    "pandasTest = avgDelaySeason.toPandas()\n",
    "\n",
    "# Affichage du graphique\n",
    "fig = px.line(pandasTest, x=\"hour\", y=\"avg_dep_delay\",color='seasons', title='Temps moyen des retards par saisons')\n",
    "fig.show()\n"
   ]
  },
  {
   "cell_type": "code",
   "execution_count": 143,
   "metadata": {
    "cell_id": "00de152b0c51476fa9b625eb36361520",
    "deepnote_cell_type": "code",
    "deepnote_to_be_reexecuted": false,
    "execution_millis": 491,
    "execution_start": 1671186764143,
    "source_hash": "c6fd83ec",
    "tags": []
   },
   "outputs": [
    {
     "data": {
      "image/png": "[encoded data removed]",
      "text/plain": [
       "<Figure size 800x600 with 2 Axes>"
      ]
     },
     "metadata": {
      "image/png": {
       "height": 511,
       "width": 637
      }
     },
     "output_type": "display_data"
    }
   ],
   "source": [
    "import pandas as pd\n",
    "import seaborn as sns\n",
    "import matplotlib.pyplot as plt\n",
    "\n",
    "weather_corerlation = weather.select('temp', 'dewp', 'humid', 'precip', 'pressure', 'visib')\n",
    "weather_corerlation_c = weather_corerlation.withColumn('temp', weather_corerlation.temp.cast(FloatType()))\\\n",
    "                      .withColumn('dewp', weather_corerlation.dewp.cast(FloatType()))\\\n",
    "                      .withColumn('humid', weather_corerlation.humid.cast(FloatType()))\\\n",
    "                      .withColumn('pressure', weather_corerlation.pressure.cast(FloatType()))\n",
    "weather_corerlation_df = weather_corerlation_c.toPandas()\n",
    "\n",
    "weather_corerlation_df\n",
    "corr_df = weather_corerlation_df.corr(method='pearson')\n",
    "\n",
    "plt.figure(figsize=(8, 6))\n",
    "sns.heatmap(corr_df, annot=True)\n",
    "plt.show()"
   ]
  },
  {
   "cell_type": "markdown",
   "metadata": {
    "cell_id": "90b8433679e24e12b8324687fa2476fa",
    "deepnote_cell_type": "text-cell-h1",
    "formattedRanges": [],
    "is_collapsed": false,
    "tags": []
   },
   "source": [
    "# 2. Mission : Créer la DB"
   ]
  },
  {
   "cell_type": "code",
   "execution_count": null,
   "metadata": {
    "cell_id": "dac4284cb39b48789a92c9df72c09ef0",
    "deepnote_cell_type": "code",
    "deepnote_to_be_reexecuted": true,
    "execution_millis": 1,
    "execution_start": 1671179427610,
    "source_hash": "7a99c860",
    "tags": []
   },
   "outputs": [],
   "source": [
    "# Les données ont été intégrées à partir de DATABRICKS"
   ]
  },
  {
   "cell_type": "markdown",
   "metadata": {
    "cell_id": "02089c42251841f4b5ecb021f4201157",
    "deepnote_cell_type": "text-cell-h1",
    "formattedRanges": [],
    "is_collapsed": false,
    "tags": []
   },
   "source": [
    "# 3. Mission : Créer une WebApp"
   ]
  },
  {
   "cell_type": "code",
   "execution_count": null,
   "metadata": {
    "cell_id": "0d65953893f54485b9020884e857b31f",
    "deepnote_cell_type": "code",
    "deepnote_to_be_reexecuted": true,
    "execution_millis": 65821297,
    "execution_start": 1671179427614,
    "source_hash": "b623e53d",
    "tags": []
   },
   "outputs": [],
   "source": []
  },
  {
   "cell_type": "markdown",
   "metadata": {
    "created_in_deepnote_cell": true,
    "deepnote_cell_type": "markdown",
    "tags": []
   },
   "source": [
    "<a style='text-decoration:none;line-height:16px;display:flex;color:#5B5B62;padding:10px;justify-content:end;' href='https://deepnote.com?utm_source=created-in-deepnote-cell&projectId=01c6e8fd-08cf-4eba-8815-c5fbca26b5d5' target=\"_blank\">\n",
    "<img alt='Created in deepnote.com' style='display:inline;max-height:16px;margin:0px;margin-right:7.5px;' src='data:image/svg+xml;base64,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' > </img>\n",
    "Created in <span style='font-weight:600;margin-left:4px;'>Deepnote</span></a>"
   ]
  }
 ],
 "metadata": {
  "deepnote": {},
  "deepnote_execution_queue": [],
  "deepnote_notebook_id": "06199e479dd5400c8a0b135f2c155a7d",
  "kernelspec": {
   "display_name": "Python 3 (ipykernel)",
   "language": "python",
   "name": "python3"
  },
  "language_info": {
   "codemirror_mode": {
    "name": "ipython",
    "version": 3
   },
   "file_extension": ".py",
   "mimetype": "text/x-python",
   "name": "python",
   "nbconvert_exporter": "python",
   "pygments_lexer": "ipython3",
   "version": "3.9.2"
  },
  "vscode": {
   "interpreter": {
    "hash": "916dbcbb3f70747c44a77c7bcd40155683ae19c65e1c03b4aa3499c5328201f1"
   }
  }
 },
 "nbformat": 4,
 "nbformat_minor": 1
}
