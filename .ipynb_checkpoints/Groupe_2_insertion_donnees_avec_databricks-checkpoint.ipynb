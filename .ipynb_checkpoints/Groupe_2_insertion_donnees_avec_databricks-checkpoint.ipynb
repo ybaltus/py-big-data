{
 "cells": [
  {
   "cell_type": "markdown",
   "metadata": {
    "application/vnd.databricks.v1+cell": {
     "cellMetadata": {},
     "inputWidgets": {},
     "nuid": "6b05031d-1c94-424c-8bb1-3707f5bcc579",
     "showTitle": false,
     "title": ""
    }
   },
   "source": [
    "# Imports et configurations"
   ]
  },
  {
   "cell_type": "code",
   "execution_count": 0,
   "metadata": {
    "application/vnd.databricks.v1+cell": {
     "cellMetadata": {},
     "inputWidgets": {},
     "nuid": "cadc1eca-bc34-43d5-89ab-5e42a310588f",
     "showTitle": false,
     "title": ""
    }
   },
   "outputs": [],
   "source": [
    "# Imports\n",
    "# ---------------------------\n",
    "from pyspark.sql import SparkSession\n",
    "spark = SparkSession.builder.getOrCreate()\n",
    "import pandas as pd\n",
    "import pyspark.sql.functions as F\n",
    "from pyspark.sql.types import *\n",
    "\n",
    "spark.conf.set('spark.sql.repl.eagerEval.enabled', True)\n",
    "\n",
    "# Localisation des fichiers\n",
    "#------------------------------------\n",
    "file_location = \"/FileStore/tables/\""
   ]
  },
  {
   "cell_type": "markdown",
   "metadata": {
    "application/vnd.databricks.v1+cell": {
     "cellMetadata": {},
     "inputWidgets": {},
     "nuid": "caffa06f-f1c0-470b-b80b-37ceb80fc14d",
     "showTitle": false,
     "title": ""
    }
   },
   "source": [
    "# Initialisation de la base de données MySQL"
   ]
  },
  {
   "cell_type": "code",
   "execution_count": 0,
   "metadata": {
    "application/vnd.databricks.v1+cell": {
     "cellMetadata": {},
     "inputWidgets": {},
     "nuid": "fdc5c784-259f-47b1-9aae-2646b3ed4021",
     "showTitle": false,
     "title": ""
    }
   },
   "outputs": [
    {
     "data": {
      "text/html": [
       "<style scoped>\n",
       "  .table-result-container {\n",
       "    max-height: 300px;\n",
       "    overflow: auto;\n",
       "  }\n",
       "  table, th, td {\n",
       "    border: 1px solid black;\n",
       "    border-collapse: collapse;\n",
       "  }\n",
       "  th, td {\n",
       "    padding: 5px;\n",
       "  }\n",
       "  th {\n",
       "    text-align: left;\n",
       "  }\n",
       "</style><div class='table-result-container'><table class='table-result'><thead style='background-color: white'><tr><th>id</th><th>carrier</th><th>name</th></tr></thead><tbody></tbody></table></div>"
      ]
     },
     "metadata": {
      "application/vnd.databricks.v1+output": {
       "addedWidgets": {},
       "aggData": [],
       "aggError": "",
       "aggOverflow": false,
       "aggSchema": [],
       "aggSeriesLimitReached": false,
       "aggType": "",
       "arguments": {},
       "columnCustomDisplayInfos": {},
       "data": [],
       "datasetInfos": [],
       "dbfsResultPath": null,
       "isJsonSchema": true,
       "metadata": {},
       "overflow": false,
       "plotOptions": {
        "customPlotOptions": {},
        "displayType": "table",
        "pivotAggregation": null,
        "pivotColumns": null,
        "xColumns": null,
        "yColumns": null
       },
       "removedWidgets": [],
       "schema": [
        {
         "metadata": "{\"scale\":0}",
         "name": "id",
         "type": "\"integer\""
        },
        {
         "metadata": "{\"scale\":0}",
         "name": "carrier",
         "type": "\"string\""
        },
        {
         "metadata": "{\"scale\":0}",
         "name": "name",
         "type": "\"string\""
        }
       ],
       "type": "table"
      }
     },
     "output_type": "display_data"
    }
   ],
   "source": [
    "#Test Connection Base de donnee Always Data\n",
    "\n",
    "driver = \"org.mariadb.jdbc.Driver\"\n",
    "\n",
    "db_host = \"xxx.alwaysdata.net\"\n",
    "db_port = \"xx\" # update if you use a non-default port\n",
    "db_name = \"db_airlines\"\n",
    "db_user = \"xxx\"\n",
    "db_password = \"xxx\"\n",
    "db_url = f\"jdbc:mysql://{database_host}:{database_port}/{database_name}\"\n",
    "\n",
    "test_table = \"airlines\"\n",
    "remote_table = (spark.read\n",
    "  .format(\"jdbc\")\n",
    "  .option(\"driver\", driver)\n",
    "  .option(\"url\", db_url)\n",
    "  .option(\"dbtable\", test_table)\n",
    "  .option(\"user\", db_user)\n",
    "  .option(\"password\", db_password)\n",
    "  .load()\n",
    ")\n",
    "\n",
    "display(remote_table)"
   ]
  },
  {
   "cell_type": "markdown",
   "metadata": {
    "application/vnd.databricks.v1+cell": {
     "cellMetadata": {},
     "inputWidgets": {},
     "nuid": "2086b527-5db4-457c-bb2f-c7c6cc37794c",
     "showTitle": false,
     "title": ""
    }
   },
   "source": [
    "# Insertion des DataFrames dans la base de données MySql"
   ]
  },
  {
   "cell_type": "code",
   "execution_count": 0,
   "metadata": {
    "application/vnd.databricks.v1+cell": {
     "cellMetadata": {},
     "inputWidgets": {},
     "nuid": "20d2c788-9128-4f75-b076-46450d51febc",
     "showTitle": false,
     "title": ""
    }
   },
   "outputs": [],
   "source": [
    "# Airlines\n",
    "airlines = spark.read.csv(file_location + \"airlines.csv\" , header=True, inferSchema=True)\n",
    "\n",
    "(airlines.write\\\n",
    "    .format(\"jdbc\")\\\n",
    "    .option(\"url\", db_url)\\\n",
    "    .option(\"dbtable\", 'airlines')\\\n",
    "    .option(\"user\", db_user)\\\n",
    "    .option(\"password\", db_password)\\\n",
    "    .mode(\"append\")\n",
    "    .save()\n",
    ")"
   ]
  },
  {
   "cell_type": "code",
   "execution_count": 0,
   "metadata": {
    "application/vnd.databricks.v1+cell": {
     "cellMetadata": {},
     "inputWidgets": {},
     "nuid": "e586866a-d676-4efe-8a38-10a4c803687f",
     "showTitle": false,
     "title": ""
    }
   },
   "outputs": [
    {
     "data": {
      "text/plain": [
       "root\n",
       " |-- tailnum: string (nullable = true)\n",
       " |-- year: string (nullable = true)\n",
       " |-- type: string (nullable = true)\n",
       " |-- manufacturer: string (nullable = true)\n",
       " |-- model: string (nullable = true)\n",
       " |-- engines: integer (nullable = true)\n",
       " |-- seats: integer (nullable = true)\n",
       " |-- speed: string (nullable = true)\n",
       " |-- engine: string (nullable = true)\n",
       "\n",
       "root\n",
       " |-- tailnum: string (nullable = true)\n",
       " |-- year: integer (nullable = true)\n",
       " |-- type_plane: string (nullable = true)\n",
       " |-- manufacturer: string (nullable = true)\n",
       " |-- model: string (nullable = true)\n",
       " |-- engine_nb: integer (nullable = true)\n",
       " |-- seats: integer (nullable = true)\n",
       " |-- speed: string (nullable = true)\n",
       " |-- engine_name: string (nullable = true)\n",
       "\n"
      ]
     },
     "metadata": {
      "application/vnd.databricks.v1+output": {
       "addedWidgets": {},
       "arguments": {},
       "data": "root\n |-- tailnum: string (nullable = true)\n |-- year: string (nullable = true)\n |-- type: string (nullable = true)\n |-- manufacturer: string (nullable = true)\n |-- model: string (nullable = true)\n |-- engines: integer (nullable = true)\n |-- seats: integer (nullable = true)\n |-- speed: string (nullable = true)\n |-- engine: string (nullable = true)\n\nroot\n |-- tailnum: string (nullable = true)\n |-- year: integer (nullable = true)\n |-- type_plane: string (nullable = true)\n |-- manufacturer: string (nullable = true)\n |-- model: string (nullable = true)\n |-- engine_nb: integer (nullable = true)\n |-- seats: integer (nullable = true)\n |-- speed: string (nullable = true)\n |-- engine_name: string (nullable = true)\n\n",
       "datasetInfos": [],
       "metadata": {},
       "removedWidgets": [],
       "type": "ansi"
      }
     },
     "output_type": "display_data"
    }
   ],
   "source": [
    "# Planes\n",
    "planes = spark.read.csv(file_location + \"planes.csv\", header=True, inferSchema=True)\n",
    "planes.printSchema()\n",
    "\n",
    "planes = planes.withColumnRenamed('type', 'type_plane').withColumnRenamed('engine', 'engine_name').withColumnRenamed('engines', 'engine_nb').withColumn('year', planes.year.cast(IntegerType()))\n",
    "planes.printSchema()\n",
    "\n",
    "(planes.write\\\n",
    "    .format(\"jdbc\")\\\n",
    "    .option(\"url\", db_url)\\\n",
    "    .option(\"dbtable\", 'planes')\\\n",
    "    .option(\"user\", db_user)\\\n",
    "    .option(\"password\", db_password)\\\n",
    "    .mode(\"append\")\n",
    "    .save()\n",
    ")"
   ]
  },
  {
   "cell_type": "code",
   "execution_count": 0,
   "metadata": {
    "application/vnd.databricks.v1+cell": {
     "cellMetadata": {},
     "inputWidgets": {},
     "nuid": "1d2144f0-4b3f-43f3-9068-40173e9bdc21",
     "showTitle": false,
     "title": ""
    }
   },
   "outputs": [],
   "source": [
    "# Airports\n",
    "airports = spark.read.csv(file_location + \"airports.csv\" , header=True, inferSchema=True)\n",
    "\n",
    "(airports.write\\\n",
    "    .format(\"jdbc\")\\\n",
    "    .option(\"url\", db_url)\\\n",
    "    .option(\"dbtable\", 'airports')\\\n",
    "    .option(\"user\", db_user)\\\n",
    "    .option(\"password\", db_password)\\\n",
    "    .mode(\"append\")\n",
    "    .save()\n",
    ")"
   ]
  },
  {
   "cell_type": "code",
   "execution_count": 0,
   "metadata": {
    "application/vnd.databricks.v1+cell": {
     "cellMetadata": {},
     "inputWidgets": {},
     "nuid": "ad2fbea5-8937-4bd3-be34-876637ff4ade",
     "showTitle": false,
     "title": ""
    }
   },
   "outputs": [
    {
     "data": {
      "text/plain": [
       "root\n",
       " |-- origin: string (nullable = true)\n",
       " |-- year: integer (nullable = true)\n",
       " |-- month: integer (nullable = true)\n",
       " |-- day: integer (nullable = true)\n",
       " |-- hour: integer (nullable = true)\n",
       " |-- temp: string (nullable = true)\n",
       " |-- dewp: string (nullable = true)\n",
       " |-- humid: string (nullable = true)\n",
       " |-- wind_dir: string (nullable = true)\n",
       " |-- wind_speed: string (nullable = true)\n",
       " |-- wind_gust: string (nullable = true)\n",
       " |-- precip: double (nullable = true)\n",
       " |-- pressure: string (nullable = true)\n",
       " |-- visib: double (nullable = true)\n",
       " |-- time_hour: timestamp (nullable = true)\n",
       "\n",
       "root\n",
       " |-- origin: string (nullable = true)\n",
       " |-- year: integer (nullable = true)\n",
       " |-- month: integer (nullable = true)\n",
       " |-- day: integer (nullable = true)\n",
       " |-- hour: integer (nullable = true)\n",
       " |-- temp: float (nullable = true)\n",
       " |-- dewp: float (nullable = true)\n",
       " |-- humid: float (nullable = true)\n",
       " |-- wind_dir: integer (nullable = true)\n",
       " |-- wind_speed: float (nullable = true)\n",
       " |-- wind_gust: float (nullable = true)\n",
       " |-- precip: double (nullable = true)\n",
       " |-- pressure: float (nullable = true)\n",
       " |-- visib: double (nullable = true)\n",
       " |-- time_hour: timestamp (nullable = true)\n",
       "\n"
      ]
     },
     "metadata": {
      "application/vnd.databricks.v1+output": {
       "addedWidgets": {},
       "arguments": {},
       "data": "root\n |-- origin: string (nullable = true)\n |-- year: integer (nullable = true)\n |-- month: integer (nullable = true)\n |-- day: integer (nullable = true)\n |-- hour: integer (nullable = true)\n |-- temp: string (nullable = true)\n |-- dewp: string (nullable = true)\n |-- humid: string (nullable = true)\n |-- wind_dir: string (nullable = true)\n |-- wind_speed: string (nullable = true)\n |-- wind_gust: string (nullable = true)\n |-- precip: double (nullable = true)\n |-- pressure: string (nullable = true)\n |-- visib: double (nullable = true)\n |-- time_hour: timestamp (nullable = true)\n\nroot\n |-- origin: string (nullable = true)\n |-- year: integer (nullable = true)\n |-- month: integer (nullable = true)\n |-- day: integer (nullable = true)\n |-- hour: integer (nullable = true)\n |-- temp: float (nullable = true)\n |-- dewp: float (nullable = true)\n |-- humid: float (nullable = true)\n |-- wind_dir: integer (nullable = true)\n |-- wind_speed: float (nullable = true)\n |-- wind_gust: float (nullable = true)\n |-- precip: double (nullable = true)\n |-- pressure: float (nullable = true)\n |-- visib: double (nullable = true)\n |-- time_hour: timestamp (nullable = true)\n\n",
       "datasetInfos": [],
       "metadata": {},
       "removedWidgets": [],
       "type": "ansi"
      }
     },
     "output_type": "display_data"
    }
   ],
   "source": [
    "# Weather\n",
    "weather = spark.read.csv(file_location + \"weather.csv\", header=True, inferSchema=True)\n",
    "weather.printSchema();\n",
    "\n",
    "weather = weather.withColumn('wind_dir', weather.wind_dir.cast(IntegerType()))\\\n",
    "          .withColumn('temp', weather.temp.cast(FloatType()))\\\n",
    "          .withColumn('dewp', weather.dewp.cast(FloatType()))\\\n",
    "          .withColumn('humid', weather.humid.cast(FloatType()))\\\n",
    "          .withColumn('wind_speed', weather.wind_speed.cast(FloatType()))\\\n",
    "          .withColumn('wind_gust', weather.wind_gust.cast(FloatType()))\\\n",
    "          .withColumn('pressure', weather.pressure.cast(FloatType()))\n",
    "weather.printSchema()\n",
    "\n",
    "(weather.write\\\n",
    "    .format(\"jdbc\")\\\n",
    "    .option(\"url\", db_url)\\\n",
    "    .option(\"dbtable\", 'weather')\\\n",
    "    .option(\"user\", db_user)\\\n",
    "    .option(\"password\", db_password)\\\n",
    "    .mode(\"append\")\n",
    "    .save()\n",
    ")"
   ]
  },
  {
   "cell_type": "code",
   "execution_count": 0,
   "metadata": {
    "application/vnd.databricks.v1+cell": {
     "cellMetadata": {},
     "inputWidgets": {},
     "nuid": "51053837-41dc-45a1-abeb-6a2ecc73e1e1",
     "showTitle": false,
     "title": ""
    }
   },
   "outputs": [
    {
     "data": {
      "text/plain": [
       "root\n",
       " |-- year: string (nullable = true)\n",
       " |-- month: string (nullable = true)\n",
       " |-- day: string (nullable = true)\n",
       " |-- dep_time: string (nullable = true)\n",
       " |-- sched_dep_time: string (nullable = true)\n",
       " |-- dep_delay: string (nullable = true)\n",
       " |-- arr_time: string (nullable = true)\n",
       " |-- sched_arr_time: string (nullable = true)\n",
       " |-- arr_delay: string (nullable = true)\n",
       " |-- carrier: string (nullable = true)\n",
       " |-- flight: string (nullable = true)\n",
       " |-- tailnum: string (nullable = true)\n",
       " |-- origin: string (nullable = true)\n",
       " |-- dest: string (nullable = true)\n",
       " |-- air_time: string (nullable = true)\n",
       " |-- distance: string (nullable = true)\n",
       " |-- hour: string (nullable = true)\n",
       " |-- minute: string (nullable = true)\n",
       " |-- time_hour: string (nullable = true)\n",
       "\n"
      ]
     },
     "metadata": {
      "application/vnd.databricks.v1+output": {
       "addedWidgets": {},
       "arguments": {},
       "data": "root\n |-- year: string (nullable = true)\n |-- month: string (nullable = true)\n |-- day: string (nullable = true)\n |-- dep_time: string (nullable = true)\n |-- sched_dep_time: string (nullable = true)\n |-- dep_delay: string (nullable = true)\n |-- arr_time: string (nullable = true)\n |-- sched_arr_time: string (nullable = true)\n |-- arr_delay: string (nullable = true)\n |-- carrier: string (nullable = true)\n |-- flight: string (nullable = true)\n |-- tailnum: string (nullable = true)\n |-- origin: string (nullable = true)\n |-- dest: string (nullable = true)\n |-- air_time: string (nullable = true)\n |-- distance: string (nullable = true)\n |-- hour: string (nullable = true)\n |-- minute: string (nullable = true)\n |-- time_hour: string (nullable = true)\n\n",
       "datasetInfos": [],
       "metadata": {},
       "removedWidgets": [],
       "type": "ansi"
      }
     },
     "output_type": "display_data"
    }
   ],
   "source": [
    "# Flights\n",
    "flights = spark.read.csv(file_location + \"flights.csv\" , header=True)\n",
    "flights.printSchema();\n",
    "\n",
    "flights = flights.withColumn('dep_time',  flights.dep_time.cast(IntegerType()))\\\n",
    "            .withColumn('arr_delay',  flights.arr_delay.cast(IntegerType()))\\\n",
    "            .withColumn('dep_delay',  flights.dep_delay.cast(IntegerType()))\\\n",
    "            .withColumn('flight',  flights.flight.cast(IntegerType()))\\\n",
    "            .withColumn('arr_time',  flights.arr_time.cast(IntegerType()))\\\n",
    "            .withColumn('air_time',  flights.air_time.cast(IntegerType()))\n",
    "\n",
    "(flights.write\\\n",
    "    .format(\"jdbc\")\\\n",
    "    .option(\"url\", db_url)\\\n",
    "    .option(\"dbtable\", 'flights')\\\n",
    "    .option(\"user\", db_user)\\\n",
    "    .option(\"password\", db_password)\\\n",
    "    .mode(\"append\")\n",
    "    .save()\n",
    ")"
   ]
  },
  {
   "cell_type": "markdown",
   "metadata": {
    "application/vnd.databricks.v1+cell": {
     "cellMetadata": {},
     "inputWidgets": {},
     "nuid": "45db8f3d-0935-4bdb-990f-7499f20b179e",
     "showTitle": false,
     "title": ""
    }
   },
   "source": [
    "# Les missions"
   ]
  },
  {
   "cell_type": "code",
   "execution_count": 0,
   "metadata": {
    "application/vnd.databricks.v1+cell": {
     "cellMetadata": {},
     "inputWidgets": {},
     "nuid": "5f07a54b-3ff2-48f9-bf44-41c10e99c6d9",
     "showTitle": false,
     "title": ""
    }
   },
   "outputs": [],
   "source": [
    "# Mission 1 : Se familiariser avec les données"
   ]
  },
  {
   "cell_type": "code",
   "execution_count": 0,
   "metadata": {
    "application/vnd.databricks.v1+cell": {
     "cellMetadata": {},
     "inputWidgets": {},
     "nuid": "a6fb20fc-100b-43b0-ade3-2de092401f9f",
     "showTitle": false,
     "title": ""
    }
   },
   "outputs": [],
   "source": []
  }
 ],
 "metadata": {
  "application/vnd.databricks.v1+notebook": {
   "dashboards": [],
   "language": "python",
   "notebookMetadata": {
    "pythonIndentUnit": 4
   },
   "notebookName": "group2",
   "notebookOrigID": 2238389090616144,
   "widgets": {}
  },
  "kernelspec": {
   "display_name": "Python 3 (ipykernel)",
   "language": "python",
   "name": "python3"
  },
  "language_info": {
   "codemirror_mode": {
    "name": "ipython",
    "version": 3
   },
   "file_extension": ".py",
   "mimetype": "text/x-python",
   "name": "python",
   "nbconvert_exporter": "python",
   "pygments_lexer": "ipython3",
   "version": "3.9.2"
  }
 },
 "nbformat": 4,
 "nbformat_minor": 1
}
